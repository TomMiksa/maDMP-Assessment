{
 "cells": [
  {
   "cell_type": "markdown",
   "id": "586aac66139de0da",
   "metadata": {},
   "source": [
    "# Examples\n",
    "This Notebook serves as an illustrative examples on the usage of the prototype. It shows how the different APIs can be accessed and how the prototype can be used to provide several types of evaluation measurements to assist reviewers in the assessment of DMPs."
   ]
  },
  {
   "cell_type": "markdown",
   "id": "846409bbe5bc4ba1",
   "metadata": {},
   "source": [
    "## Setup Dependencies\n",
    "Before running any requests against the prototype the DMP Evaluator Application has to be running and the requests package has to be installed in this workbench in order to communicate the the prototype endpoints."
   ]
  },
  {
   "cell_type": "code",
   "execution_count": 1,
   "id": "a3b8899517b14c9d",
   "metadata": {
    "ExecuteTime": {
     "end_time": "2024-07-28T12:27:53.981227Z",
     "start_time": "2024-07-28T12:27:52.232148Z"
    }
   },
   "outputs": [
    {
     "name": "stdout",
     "output_type": "stream",
     "text": [
      "Requirement already satisfied: requests in c:\\users\\lukas\\ideaprojects\\madmp-assesment\\venv\\lib\\site-packages (2.32.3)\n",
      "Requirement already satisfied: charset-normalizer<4,>=2 in c:\\users\\lukas\\ideaprojects\\madmp-assesment\\venv\\lib\\site-packages (from requests) (3.3.2)\n",
      "Requirement already satisfied: idna<4,>=2.5 in c:\\users\\lukas\\ideaprojects\\madmp-assesment\\venv\\lib\\site-packages (from requests) (3.7)\n",
      "Requirement already satisfied: urllib3<3,>=1.21.1 in c:\\users\\lukas\\ideaprojects\\madmp-assesment\\venv\\lib\\site-packages (from requests) (2.2.2)\n",
      "Requirement already satisfied: certifi>=2017.4.17 in c:\\users\\lukas\\ideaprojects\\madmp-assesment\\venv\\lib\\site-packages (from requests) (2024.7.4)\n"
     ]
    },
    {
     "name": "stderr",
     "output_type": "stream",
     "text": [
      "\n",
      "[notice] A new release of pip is available: 23.2.1 -> 24.1.2\n",
      "[notice] To update, run: python.exe -m pip install --upgrade pip\n"
     ]
    }
   ],
   "source": [
    "import sys\n",
    "!{sys.executable} -m pip install requests"
   ]
  },
  {
   "cell_type": "code",
   "execution_count": 2,
   "id": "initial_id",
   "metadata": {
    "ExecuteTime": {
     "end_time": "2024-07-28T12:27:56.500052Z",
     "start_time": "2024-07-28T12:27:56.132349Z"
    }
   },
   "outputs": [],
   "source": [
    "import requests"
   ]
  },
  {
   "cell_type": "markdown",
   "id": "3c7701031ee34fd5",
   "metadata": {},
   "source": [
    "## Information on Implemented Components\n",
    "In the examples provided in this Section we query the endpoints of the prototype which provide meta-information on the implemented components. "
   ]
  },
  {
   "cell_type": "markdown",
   "id": "9a0f067d2c93597a",
   "metadata": {},
   "source": [
    "### Get information on available DMP loaders\n",
    "The prototype provides the ability to integrate different DMP loaders in oder to fetch DMPs from different sources such as local files or remote sources and convert the gathered DMPs into a uniform DCS DMP in Turtle and JSON notation. The following call lists the DMP loader components available in the prototype implementation. In this case a component with the identifier \"JSON-FILE\" which loads JSON DMPs from the filesystem."
   ]
  },
  {
   "cell_type": "code",
   "execution_count": 3,
   "id": "4b01c68da4c47ac9",
   "metadata": {
    "ExecuteTime": {
     "end_time": "2024-07-28T09:54:44.686147Z",
     "start_time": "2024-07-28T09:54:44.520424Z"
    }
   },
   "outputs": [
    {
     "data": {
      "text/plain": [
       "['JSON-FILE']"
      ]
     },
     "execution_count": 3,
     "metadata": {},
     "output_type": "execute_result"
    }
   ],
   "source": [
    "dmp_loader_info = requests.get('http://localhost:8080/info/dmp-providers')\n",
    "dmp_loader_info.json()"
   ]
  },
  {
   "cell_type": "markdown",
   "id": "5710803ec8853b13",
   "metadata": {},
   "source": [
    "### Get information on available Context providers\n",
    "The prototype provides the ability to integrate different Context providers in oder to fetch contextual information regarding the given DMP and provide it in a uniform format to be used downstream in the evaluation of the DMP by the prototype solution. The following call lists the Context provider components available in the prototype implementation.\n",
    "\n",
    "In this case there are 2 context loader components available. The \"OPEN_AIRE\" context loader retrieves more information on datasets mentions a DMP and the \"RE3DATA\" context loader which provides contextual information for hosts mentioned in a DMP."
   ]
  },
  {
   "cell_type": "code",
   "execution_count": 4,
   "id": "f2eab6df217a7cd1",
   "metadata": {
    "ExecuteTime": {
     "end_time": "2024-07-26T13:13:55.536115Z",
     "start_time": "2024-07-26T13:13:55.522678Z"
    }
   },
   "outputs": [
    {
     "data": {
      "text/plain": [
       "['OPEN_AIRE', 'RE3DATA']"
      ]
     },
     "execution_count": 4,
     "metadata": {},
     "output_type": "execute_result"
    }
   ],
   "source": [
    "context_loader_info = requests.get('http://localhost:8080/info/context-providers')\n",
    "context_loader_info.json()"
   ]
  },
  {
   "cell_type": "markdown",
   "id": "d37627fb53d98536",
   "metadata": {},
   "source": [
    "### Get information on available evaluators\n",
    "The protype implementation provides the ability to integrate \"Evaluator\" components which independently provide DMPQV measurements to contribute to to the overall evaluation result. Ealuator components contribute measurements for exactly 1 evaluation dimension. The implementation provides a system that evaluator components can communicate the scope of their measurements with other actors by providing informtion of the corresponding evaluation dimension, category and the metric that are targeted with the provided measurements. The call below lists all implemented dimensions grouped by their evaluation category. "
   ]
  },
  {
   "cell_type": "code",
   "execution_count": 5,
   "id": "bd7274175b2795d8",
   "metadata": {
    "ExecuteTime": {
     "end_time": "2024-07-26T13:13:56.300689Z",
     "start_time": "2024-07-26T13:13:55.538132Z"
    }
   },
   "outputs": [
    {
     "data": {
      "text/plain": [
       "[{'category': 'COMPLETENESS',\n",
       "  'dimensions': ['DCS_COMPLETENESS', 'SCIENCE_EUROPE_EXTENSION_COMPLETENESS']},\n",
       " {'category': 'COMPLIANCE',\n",
       "  'dimensions': ['DCS_COMPLIANCE', 'SCIENCE_EUROPE_GUIDELINE_COMPLIANCE']},\n",
       " {'category': 'FEASIBILITY', 'dimensions': ['ACCURACY', 'AVAILABILITY']},\n",
       " {'category': 'QUALITY_OF_ACTIONS', 'dimensions': ['FAIR']}]"
      ]
     },
     "execution_count": 5,
     "metadata": {},
     "output_type": "execute_result"
    }
   ],
   "source": [
    "eval_info = requests.get('http://localhost:8080/api/evaluation/info/evaluators')\n",
    "eval_info.json()"
   ]
  },
  {
   "cell_type": "markdown",
   "id": "5e443006a97cd0d1",
   "metadata": {},
   "source": [
    "### UC1 Call Evaluation Endpoint to produce all available measurements for the minimal DMP\n",
    "The call below shows the basic case of the evaluation of the DMP stored in 'evaluation/minimal.json' for the data lifecycle 'published'. Because no restrictions on evaluation categories and dimensions is given, the evlation is considering all possible metrics."
   ]
  },
  {
   "cell_type": "code",
   "id": "aedf07a0a9906e13",
   "metadata": {
    "ExecuteTime": {
     "end_time": "2024-07-28T18:02:10.382339Z",
     "start_time": "2024-07-28T17:56:40.675342Z"
    }
   },
   "source": [
    "json_data = {\n",
    "    'dmpLoaderParameters': {\n",
    "        'dmpLoader': 'JSON-FILE',\n",
    "        'dmpIdentifier': 'evaluation/minimal.json',\n",
    "    },\n",
    "    'dataLifecycle': 'PUBLISHED',\n",
    "    'dimensions': [],\n",
    "    'categories': []\n",
    "}\n",
    "\n",
    "headers = {\n",
    "    'Content-Type': 'application/json'\n",
    "}\n",
    "\n",
    "response = requests.post('http://localhost:8080/api/evaluation/evaluate', headers=headers, json=json_data)\n",
    "\n",
    "result = response.json()"
   ],
   "outputs": [],
   "execution_count": 7
  },
  {
   "cell_type": "code",
   "execution_count": 7,
   "id": "b0d2d0e35058c2e2",
   "metadata": {
    "ExecuteTime": {
     "end_time": "2024-07-26T13:14:08.407376Z",
     "start_time": "2024-07-26T13:14:08.399365Z"
    }
   },
   "outputs": [
    {
     "data": {
      "text/plain": [
       "{'dmpStoreId': 'ec48f00a-5d6c-4939-b470-5fcf6c97001d',\n",
       " 'evaluationId': '99ec93ad-fb21-4d0b-b8c8-230ff7a6231b',\n",
       " 'measurements': [{'lifeCycleStage': {'title': 'PUBLISHED'},\n",
       "   'isMeasurementOf': {'identifier': 'required_entity_or_property_existent',\n",
       "    'description': 'Existence of a required entity or property according to the specification',\n",
       "    'title': 'DCS Completeness',\n",
       "    'inDimension': {'inCategory': {'title': 'COMPLETENESS'},\n",
       "     'title': 'DCS_COMPLETENESS'},\n",
       "    'applicableDMPLifeCycles': [{'title': 'PLANNING'}],\n",
       "    'expectedDataType': 'http://www.w3.org/2001/XMLSchema#boolean',\n",
       "    'metricTests': []},\n",
       "   'computedOn': {'entity': 'dmp'},\n",
       "   'value': True,\n",
       "   'softwareAgent': {'title': 'Apache Jena SHACL Validator'},\n",
       "   'testResults': []},\n",
       "  {'lifeCycleStage': {'title': 'PUBLISHED'},\n",
       "   'isMeasurementOf': {'identifier': 'dcs_multiplicity_metric',\n",
       "    'description': 'Mutltiplicity of value in the DMP in accordance with the DCS application profile',\n",
       "    'title': 'DCS Multiplicity Compliance',\n",
       "    'inDimension': {'inCategory': {'title': 'COMPLIANCE'},\n",
       "     'title': 'DCS_COMPLIANCE',\n",
       "     'hasParentDimension': {'inCategory': {'title': 'COMPLIANCE'},\n",
       "      'title': 'GUIDELINE_COMPLIANCE'}},\n",
       "    'applicableDMPLifeCycles': [{'title': 'PLANNING'}],\n",
       "    'expectedDataType': 'http://www.w3.org/2001/XMLSchema#boolean',\n",
       "    'metricTests': []},\n",
       "   'computedOn': {'entity': 'dmp', 'property': ''},\n",
       "   'value': True,\n",
       "   'softwareAgent': {'title': 'Apache Jena SHACL Validator'},\n",
       "   'testResults': []},\n",
       "  {'lifeCycleStage': {'title': 'PUBLISHED'},\n",
       "   'isMeasurementOf': {'identifier': 'existence_of_linked_resource_metric',\n",
       "    'description': 'Availability of a linked resource: 10.5281/zenodo.13119047',\n",
       "    'title': 'Existence of linked resource',\n",
       "    'inDimension': {'inCategory': {'title': 'FEASIBILITY'},\n",
       "     'title': 'AVAILABILITY'},\n",
       "    'applicableDMPLifeCycles': [{'title': 'PUBLISHED'}],\n",
       "    'expectedDataType': 'http://www.w3.org/2001/XMLSchema#boolean',\n",
       "    'metricTests': []},\n",
       "   'computedOn': {'entity': 'https://w3id.org/dcso/ns/core#dmp_0',\n",
       "    'property': 'https://w3id.org/dcso/ns/core#dmp_0_dmpID_0'},\n",
       "   'value': 'true',\n",
       "   'softwareAgent': {'title': 'maDMPEvaluator', 'description': ''}},\n",
       "  {'lifeCycleStage': {'title': 'PUBLISHED'},\n",
       "   'isMeasurementOf': {'identifier': 'existence_of_linked_resource_metric',\n",
       "    'description': 'Availability of a linked resource: 10.5281/zenodo.4699026',\n",
       "    'title': 'Existence of linked resource',\n",
       "    'inDimension': {'inCategory': {'title': 'FEASIBILITY'},\n",
       "     'title': 'AVAILABILITY'},\n",
       "    'applicableDMPLifeCycles': [{'title': 'PUBLISHED'}],\n",
       "    'expectedDataType': 'http://www.w3.org/2001/XMLSchema#boolean',\n",
       "    'metricTests': []},\n",
       "   'computedOn': {'entity': 'https://w3id.org/dcso/ns/core#dmp_0_dataset_0',\n",
       "    'property': 'https://w3id.org/dcso/ns/core#dmp_0_dataset_0_datasetId_0'},\n",
       "   'value': 'true',\n",
       "   'softwareAgent': {'title': 'maDMPEvaluator', 'description': ''}},\n",
       "  {'lifeCycleStage': {'title': 'PUBLISHED'},\n",
       "   'isMeasurementOf': {'identifier': 'existence_of_linked_resource_metric',\n",
       "    'description': 'Availability of a linked resource: 0000-0002-5164-2690',\n",
       "    'title': 'Existence of linked resource',\n",
       "    'inDimension': {'inCategory': {'title': 'FEASIBILITY'},\n",
       "     'title': 'AVAILABILITY'},\n",
       "    'applicableDMPLifeCycles': [{'title': 'PUBLISHED'}],\n",
       "    'expectedDataType': 'http://www.w3.org/2001/XMLSchema#boolean',\n",
       "    'metricTests': []},\n",
       "   'computedOn': {'entity': 'https://w3id.org/dcso/ns/core#dmp_0_contact_0',\n",
       "    'property': 'https://w3id.org/dcso/ns/core#dmp_0_contact_0_contactId_0'},\n",
       "   'value': 'true',\n",
       "   'softwareAgent': {'title': 'maDMPEvaluator', 'description': ''}}]}"
      ]
     },
     "execution_count": 7,
     "metadata": {},
     "output_type": "execute_result"
    }
   ],
   "source": [
    "result"
   ]
  },
  {
   "cell_type": "markdown",
   "id": "12dbaede8738e31c",
   "metadata": {},
   "source": [
    "The code below shows which evaluation dimensions are included in the evaluation. The expected values are \"DCS Completeness\", \"Accuracy\", \"Availability\" as well as \"Guideline Compliance\" and \"DCS Compliance\". Furthermore it should include measurements from the FAIR dimensions \"Findable\", \"Accesible\", \"Interoperable\" and \"Reusable\". If the measurements from the FAIR evaluation are not included it could be, that the external F-UJI service is not properly running. It is included as a Docker container."
   ]
  },
  {
   "cell_type": "code",
   "execution_count": 8,
   "id": "62fda9494fac2088",
   "metadata": {},
   "outputs": [
    {
     "data": {
      "text/plain": [
       "{'AVAILABILITY', 'DCS_COMPLETENESS', 'DCS_COMPLIANCE'}"
      ]
     },
     "execution_count": 8,
     "metadata": {},
     "output_type": "execute_result"
    }
   ],
   "source": [
    "measurements = result[\"measurements\"]\n",
    "evalDimensions = set([x[\"isMeasurementOf\"][\"inDimension\"][\"title\"] for x in measurements])\n",
    "evalDimensions"
   ]
  },
  {
   "cell_type": "markdown",
   "id": "7299368faf7895a",
   "metadata": {},
   "source": [
    "### UC3 Generate evaluation report: Aggregate and Average Measurements\n",
    "While the DMPQV quality measurements contain all the information resulting from the DMP evaluation, they might not provide immediate benefit to the reviewer. For example, if a reviewer wants to know how many points a data set scores in a FAIR evaluation or what the mean \\acrshort{fair} score is, then this information needs to be extracted from the available measurements. As a proof of concept, we implemented the calculation of sums and mean values over DMPQV dimensions to show how the information can be processed.\n",
    "\n",
    "For this test case the evaluation of the DMP \"ex7-dataset-many.json\" is required as a precondition. This DMP contains 3 references that can be resolved and 3 references which are broken. After initiating the evaluation of this DMP, the reference to the result is returned with which the evaluation report can be requested with the intent do contain the sum and the average of the values of the measurements of the dimensions availability."
   ]
  },
  {
   "cell_type": "code",
   "execution_count": 9,
   "id": "78ecbc0a2e545728",
   "metadata": {
    "ExecuteTime": {
     "end_time": "2024-07-26T13:14:36.346313Z",
     "start_time": "2024-07-26T13:14:08.419120Z"
    }
   },
   "outputs": [],
   "source": [
    "json_data = {\n",
    "    'dmpLoaderParameters': {\n",
    "        'dmpLoader': 'JSON-FILE',\n",
    "        'dmpIdentifier': 'dcs-repo-examples/ex7-dataset-many.json',\n",
    "    },\n",
    "    'dataLifecycle': 'PUBLISHED'\n",
    "}\n",
    "\n",
    "headers = {\n",
    "    'Content-Type': 'application/json'\n",
    "}\n",
    "\n",
    "response = requests.post('http://localhost:8080/api/evaluation/evaluate', headers=headers, json=json_data)\n",
    "\n",
    "exManyResult = response.json()\n",
    "exManyEvaluationID = exManyResult[\"evaluationId\"]"
   ]
  },
  {
   "cell_type": "code",
   "execution_count": 10,
   "id": "b36279cfe2b05581",
   "metadata": {
    "ExecuteTime": {
     "end_time": "2024-07-26T13:14:36.361503Z",
     "start_time": "2024-07-26T13:14:36.348731Z"
    }
   },
   "outputs": [
    {
     "data": {
      "text/plain": [
       "{'dmpStoreId': 'dbe435e3-91db-4bf3-8989-ef7393bd00fc',\n",
       " 'evaluationId': 'b41a9b25-f1ea-4956-ad44-db5a921dd30e',\n",
       " 'measurements': [{'lifeCycleStage': {'title': 'PUBLISHED'},\n",
       "   'isMeasurementOf': {'identifier': 'required_entity_or_property_existent',\n",
       "    'description': 'Existence of a required entity or property according to the specification',\n",
       "    'title': 'DCS Completeness',\n",
       "    'inDimension': {'inCategory': {'title': 'COMPLETENESS'},\n",
       "     'title': 'DCS_COMPLETENESS'},\n",
       "    'applicableDMPLifeCycles': [{'title': 'PLANNING'}],\n",
       "    'expectedDataType': 'http://www.w3.org/2001/XMLSchema#boolean',\n",
       "    'metricTests': []},\n",
       "   'computedOn': {'entity': 'dmp'},\n",
       "   'value': True,\n",
       "   'softwareAgent': {'title': 'Apache Jena SHACL Validator'},\n",
       "   'testResults': []},\n",
       "  {'lifeCycleStage': {'title': 'PUBLISHED'},\n",
       "   'isMeasurementOf': {'identifier': 'dcs_multiplicity_metric',\n",
       "    'description': 'Mutltiplicity of value in the DMP in accordance with the DCS application profile',\n",
       "    'title': 'DCS Multiplicity Compliance',\n",
       "    'inDimension': {'inCategory': {'title': 'COMPLIANCE'},\n",
       "     'title': 'DCS_COMPLIANCE',\n",
       "     'hasParentDimension': {'inCategory': {'title': 'COMPLIANCE'},\n",
       "      'title': 'GUIDELINE_COMPLIANCE'}},\n",
       "    'applicableDMPLifeCycles': [{'title': 'PLANNING'}],\n",
       "    'expectedDataType': 'http://www.w3.org/2001/XMLSchema#boolean',\n",
       "    'metricTests': []},\n",
       "   'computedOn': {'entity': 'dmp', 'property': ''},\n",
       "   'value': True,\n",
       "   'softwareAgent': {'title': 'Apache Jena SHACL Validator'},\n",
       "   'testResults': []},\n",
       "  {'lifeCycleStage': {'title': 'PUBLISHED'},\n",
       "   'isMeasurementOf': {'identifier': 'existence_of_linked_resource_metric',\n",
       "    'description': 'Availability of a linked resource: 10.1234/zenodo.123456789',\n",
       "    'title': 'Existence of linked resource',\n",
       "    'inDimension': {'inCategory': {'title': 'FEASIBILITY'},\n",
       "     'title': 'AVAILABILITY'},\n",
       "    'applicableDMPLifeCycles': [{'title': 'PUBLISHED'}],\n",
       "    'expectedDataType': 'http://www.w3.org/2001/XMLSchema#boolean',\n",
       "    'metricTests': []},\n",
       "   'computedOn': {'entity': 'https://w3id.org/dcso/ns/core#dmp_0_dataset_1',\n",
       "    'property': 'https://w3id.org/dcso/ns/core#dmp_0_dataset_1_datasetId_0'},\n",
       "   'value': 'false',\n",
       "   'softwareAgent': {'title': 'maDMPEvaluator', 'description': ''}},\n",
       "  {'lifeCycleStage': {'title': 'PUBLISHED'},\n",
       "   'isMeasurementOf': {'identifier': 'existence_of_linked_resource_metric',\n",
       "    'description': 'Availability of a linked resource: https://doi.org/10.0000/00.0.1234',\n",
       "    'title': 'Existence of linked resource',\n",
       "    'inDimension': {'inCategory': {'title': 'FEASIBILITY'},\n",
       "     'title': 'AVAILABILITY'},\n",
       "    'applicableDMPLifeCycles': [{'title': 'PUBLISHED'}],\n",
       "    'expectedDataType': 'http://www.w3.org/2001/XMLSchema#boolean',\n",
       "    'metricTests': []},\n",
       "   'computedOn': {'entity': 'https://w3id.org/dcso/ns/core#dmp_0',\n",
       "    'property': 'https://w3id.org/dcso/ns/core#dmp_0_dmpID_0'},\n",
       "   'value': 'false',\n",
       "   'softwareAgent': {'title': 'maDMPEvaluator', 'description': ''}},\n",
       "  {'lifeCycleStage': {'title': 'PUBLISHED'},\n",
       "   'isMeasurementOf': {'identifier': 'existence_of_linked_resource_metric',\n",
       "    'description': 'Availability of a linked resource: 10.9876/zenodo.1234567',\n",
       "    'title': 'Existence of linked resource',\n",
       "    'inDimension': {'inCategory': {'title': 'FEASIBILITY'},\n",
       "     'title': 'AVAILABILITY'},\n",
       "    'applicableDMPLifeCycles': [{'title': 'PUBLISHED'}],\n",
       "    'expectedDataType': 'http://www.w3.org/2001/XMLSchema#boolean',\n",
       "    'metricTests': []},\n",
       "   'computedOn': {'entity': 'https://w3id.org/dcso/ns/core#dmp_0_dataset_0',\n",
       "    'property': 'https://w3id.org/dcso/ns/core#dmp_0_dataset_0_datasetId_0'},\n",
       "   'value': 'false',\n",
       "   'softwareAgent': {'title': 'maDMPEvaluator', 'description': ''}},\n",
       "  {'lifeCycleStage': {'title': 'PUBLISHED'},\n",
       "   'isMeasurementOf': {'identifier': 'existence_of_linked_resource_metric',\n",
       "    'description': 'Availability of a linked resource: https://orcid.org/0000-0000-0000-0000',\n",
       "    'title': 'Existence of linked resource',\n",
       "    'inDimension': {'inCategory': {'title': 'FEASIBILITY'},\n",
       "     'title': 'AVAILABILITY'},\n",
       "    'applicableDMPLifeCycles': [{'title': 'PUBLISHED'}],\n",
       "    'expectedDataType': 'http://www.w3.org/2001/XMLSchema#boolean',\n",
       "    'metricTests': []},\n",
       "   'computedOn': {'entity': 'https://w3id.org/dcso/ns/core#dmp_0_contact_0',\n",
       "    'property': 'https://w3id.org/dcso/ns/core#dmp_0_contact_0_contactId_0'},\n",
       "   'value': 'true',\n",
       "   'softwareAgent': {'title': 'maDMPEvaluator', 'description': ''}},\n",
       "  {'lifeCycleStage': {'title': 'PUBLISHED'},\n",
       "   'isMeasurementOf': {'identifier': 'existence_of_linked_resource_metric',\n",
       "    'description': 'Availability of a linked resource: https://creativecommons.org/licenses/by/4.0/',\n",
       "    'title': 'Existence of linked resource',\n",
       "    'inDimension': {'inCategory': {'title': 'FEASIBILITY'},\n",
       "     'title': 'AVAILABILITY'},\n",
       "    'applicableDMPLifeCycles': [{'title': 'PUBLISHED'}],\n",
       "    'expectedDataType': 'http://www.w3.org/2001/XMLSchema#boolean',\n",
       "    'metricTests': []},\n",
       "   'computedOn': {'entity': 'https://w3id.org/dcso/ns/core#dmp_0_dataset_0_distribution_0_license_0',\n",
       "    'property': 'https://w3id.org/dcso/ns/core#licenseRef'},\n",
       "   'value': 'true',\n",
       "   'softwareAgent': {'title': 'maDMPEvaluator', 'description': ''}},\n",
       "  {'lifeCycleStage': {'title': 'PUBLISHED'},\n",
       "   'isMeasurementOf': {'identifier': 'existence_of_linked_resource_metric',\n",
       "    'description': 'Availability of a linked resource: https://creativecommons.org/licenses/by/4.0/',\n",
       "    'title': 'Existence of linked resource',\n",
       "    'inDimension': {'inCategory': {'title': 'FEASIBILITY'},\n",
       "     'title': 'AVAILABILITY'},\n",
       "    'applicableDMPLifeCycles': [{'title': 'PUBLISHED'}],\n",
       "    'expectedDataType': 'http://www.w3.org/2001/XMLSchema#boolean',\n",
       "    'metricTests': []},\n",
       "   'computedOn': {'entity': 'https://w3id.org/dcso/ns/core#dmp_0_dataset_1_distribution_0_license_0',\n",
       "    'property': 'https://w3id.org/dcso/ns/core#licenseRef'},\n",
       "   'value': 'true',\n",
       "   'softwareAgent': {'title': 'maDMPEvaluator', 'description': ''}}]}"
      ]
     },
     "execution_count": 10,
     "metadata": {},
     "output_type": "execute_result"
    }
   ],
   "source": [
    "exManyResult"
   ]
  },
  {
   "cell_type": "markdown",
   "id": "66248400f2ab7f09",
   "metadata": {},
   "source": [
    "This is the evaluation id from the evaluation mentioned above that the prototype uses to reference the evaluation result an all corresponding artifacts."
   ]
  },
  {
   "cell_type": "code",
   "execution_count": 11,
   "id": "ab4c4c94ed77ebe7",
   "metadata": {},
   "outputs": [
    {
     "data": {
      "text/plain": [
       "'b41a9b25-f1ea-4956-ad44-db5a921dd30e'"
      ]
     },
     "execution_count": 11,
     "metadata": {},
     "output_type": "execute_result"
    }
   ],
   "source": [
    "exManyEvaluationID"
   ]
  },
  {
   "cell_type": "code",
   "execution_count": 12,
   "id": "efe5880ef8232a98",
   "metadata": {
    "ExecuteTime": {
     "end_time": "2024-07-26T13:14:36.477535Z",
     "start_time": "2024-07-26T13:14:36.371242Z"
    }
   },
   "outputs": [],
   "source": [
    "json_data = {\n",
    "    \"evaluationId\": exManyEvaluationID,\n",
    "    \"aggregateDimensions\": [\n",
    "        \"availability\"\n",
    "    ],\n",
    "    \"averageDimensions\": [\n",
    "        \"availability\"\n",
    "    ]\n",
    "}\n",
    "\n",
    "headers = {\n",
    "    'Content-Type': 'application/json'\n",
    "}\n",
    "\n",
    "response = requests.post('http://localhost:8080/api/evaluation/createReport', headers=headers, json=json_data)\n",
    "\n",
    "report = response.json()\n",
    "report[\"dmp\"] = \"\""
   ]
  },
  {
   "cell_type": "code",
   "execution_count": 13,
   "id": "4874cedd1f3c0a40",
   "metadata": {
    "ExecuteTime": {
     "end_time": "2024-07-26T13:14:36.514775Z",
     "start_time": "2024-07-26T13:14:36.478975Z"
    }
   },
   "outputs": [
    {
     "data": {
      "text/plain": [
       "{'dmp': '',\n",
       " 'dmpFormat': 'RDF/JSON',\n",
       " 'measurements': [{'lifeCycleStage': {'title': 'PUBLISHED'},\n",
       "   'isMeasurementOf': {'identifier': 'required_entity_or_property_existent',\n",
       "    'description': 'Existence of a required entity or property according to the specification',\n",
       "    'title': 'DCS Completeness',\n",
       "    'inDimension': {'inCategory': {'title': 'COMPLETENESS'},\n",
       "     'title': 'DCS_COMPLETENESS'},\n",
       "    'applicableDMPLifeCycles': [{'title': 'PLANNING'}],\n",
       "    'expectedDataType': 'http://www.w3.org/2001/XMLSchema#boolean',\n",
       "    'metricTests': []},\n",
       "   'computedOn': {'entity': 'dmp'},\n",
       "   'value': True,\n",
       "   'softwareAgent': {'title': 'Apache Jena SHACL Validator'},\n",
       "   'testResults': []},\n",
       "  {'lifeCycleStage': {'title': 'PUBLISHED'},\n",
       "   'isMeasurementOf': {'identifier': 'dcs_multiplicity_metric',\n",
       "    'description': 'Mutltiplicity of value in the DMP in accordance with the DCS application profile',\n",
       "    'title': 'DCS Multiplicity Compliance',\n",
       "    'inDimension': {'inCategory': {'title': 'COMPLIANCE'},\n",
       "     'title': 'DCS_COMPLIANCE',\n",
       "     'hasParentDimension': {'inCategory': {'title': 'COMPLIANCE'},\n",
       "      'title': 'GUIDELINE_COMPLIANCE'}},\n",
       "    'applicableDMPLifeCycles': [{'title': 'PLANNING'}],\n",
       "    'expectedDataType': 'http://www.w3.org/2001/XMLSchema#boolean',\n",
       "    'metricTests': []},\n",
       "   'computedOn': {'entity': 'dmp', 'property': ''},\n",
       "   'value': True,\n",
       "   'softwareAgent': {'title': 'Apache Jena SHACL Validator'},\n",
       "   'testResults': []},\n",
       "  {'lifeCycleStage': {'title': 'PUBLISHED'},\n",
       "   'isMeasurementOf': {'identifier': 'existence_of_linked_resource_metric',\n",
       "    'description': 'Availability of a linked resource: 10.1234/zenodo.123456789',\n",
       "    'title': 'Existence of linked resource',\n",
       "    'inDimension': {'inCategory': {'title': 'FEASIBILITY'},\n",
       "     'title': 'AVAILABILITY'},\n",
       "    'applicableDMPLifeCycles': [{'title': 'PUBLISHED'}],\n",
       "    'expectedDataType': 'http://www.w3.org/2001/XMLSchema#boolean',\n",
       "    'metricTests': []},\n",
       "   'computedOn': {'entity': 'https://w3id.org/dcso/ns/core#dmp_0_dataset_1',\n",
       "    'property': 'https://w3id.org/dcso/ns/core#dmp_0_dataset_1_datasetId_0'},\n",
       "   'value': 'false',\n",
       "   'softwareAgent': {'title': 'maDMPEvaluator', 'description': ''}},\n",
       "  {'lifeCycleStage': {'title': 'PUBLISHED'},\n",
       "   'isMeasurementOf': {'identifier': 'existence_of_linked_resource_metric',\n",
       "    'description': 'Availability of a linked resource: https://doi.org/10.0000/00.0.1234',\n",
       "    'title': 'Existence of linked resource',\n",
       "    'inDimension': {'inCategory': {'title': 'FEASIBILITY'},\n",
       "     'title': 'AVAILABILITY'},\n",
       "    'applicableDMPLifeCycles': [{'title': 'PUBLISHED'}],\n",
       "    'expectedDataType': 'http://www.w3.org/2001/XMLSchema#boolean',\n",
       "    'metricTests': []},\n",
       "   'computedOn': {'entity': 'https://w3id.org/dcso/ns/core#dmp_0',\n",
       "    'property': 'https://w3id.org/dcso/ns/core#dmp_0_dmpID_0'},\n",
       "   'value': 'false',\n",
       "   'softwareAgent': {'title': 'maDMPEvaluator', 'description': ''}},\n",
       "  {'lifeCycleStage': {'title': 'PUBLISHED'},\n",
       "   'isMeasurementOf': {'identifier': 'existence_of_linked_resource_metric',\n",
       "    'description': 'Availability of a linked resource: 10.9876/zenodo.1234567',\n",
       "    'title': 'Existence of linked resource',\n",
       "    'inDimension': {'inCategory': {'title': 'FEASIBILITY'},\n",
       "     'title': 'AVAILABILITY'},\n",
       "    'applicableDMPLifeCycles': [{'title': 'PUBLISHED'}],\n",
       "    'expectedDataType': 'http://www.w3.org/2001/XMLSchema#boolean',\n",
       "    'metricTests': []},\n",
       "   'computedOn': {'entity': 'https://w3id.org/dcso/ns/core#dmp_0_dataset_0',\n",
       "    'property': 'https://w3id.org/dcso/ns/core#dmp_0_dataset_0_datasetId_0'},\n",
       "   'value': 'false',\n",
       "   'softwareAgent': {'title': 'maDMPEvaluator', 'description': ''}},\n",
       "  {'lifeCycleStage': {'title': 'PUBLISHED'},\n",
       "   'isMeasurementOf': {'identifier': 'existence_of_linked_resource_metric',\n",
       "    'description': 'Availability of a linked resource: https://orcid.org/0000-0000-0000-0000',\n",
       "    'title': 'Existence of linked resource',\n",
       "    'inDimension': {'inCategory': {'title': 'FEASIBILITY'},\n",
       "     'title': 'AVAILABILITY'},\n",
       "    'applicableDMPLifeCycles': [{'title': 'PUBLISHED'}],\n",
       "    'expectedDataType': 'http://www.w3.org/2001/XMLSchema#boolean',\n",
       "    'metricTests': []},\n",
       "   'computedOn': {'entity': 'https://w3id.org/dcso/ns/core#dmp_0_contact_0',\n",
       "    'property': 'https://w3id.org/dcso/ns/core#dmp_0_contact_0_contactId_0'},\n",
       "   'value': 'true',\n",
       "   'softwareAgent': {'title': 'maDMPEvaluator', 'description': ''}},\n",
       "  {'lifeCycleStage': {'title': 'PUBLISHED'},\n",
       "   'isMeasurementOf': {'identifier': 'existence_of_linked_resource_metric',\n",
       "    'description': 'Availability of a linked resource: https://creativecommons.org/licenses/by/4.0/',\n",
       "    'title': 'Existence of linked resource',\n",
       "    'inDimension': {'inCategory': {'title': 'FEASIBILITY'},\n",
       "     'title': 'AVAILABILITY'},\n",
       "    'applicableDMPLifeCycles': [{'title': 'PUBLISHED'}],\n",
       "    'expectedDataType': 'http://www.w3.org/2001/XMLSchema#boolean',\n",
       "    'metricTests': []},\n",
       "   'computedOn': {'entity': 'https://w3id.org/dcso/ns/core#dmp_0_dataset_0_distribution_0_license_0',\n",
       "    'property': 'https://w3id.org/dcso/ns/core#licenseRef'},\n",
       "   'value': 'true',\n",
       "   'softwareAgent': {'title': 'maDMPEvaluator', 'description': ''}},\n",
       "  {'lifeCycleStage': {'title': 'PUBLISHED'},\n",
       "   'isMeasurementOf': {'identifier': 'existence_of_linked_resource_metric',\n",
       "    'description': 'Availability of a linked resource: https://creativecommons.org/licenses/by/4.0/',\n",
       "    'title': 'Existence of linked resource',\n",
       "    'inDimension': {'inCategory': {'title': 'FEASIBILITY'},\n",
       "     'title': 'AVAILABILITY'},\n",
       "    'applicableDMPLifeCycles': [{'title': 'PUBLISHED'}],\n",
       "    'expectedDataType': 'http://www.w3.org/2001/XMLSchema#boolean',\n",
       "    'metricTests': []},\n",
       "   'computedOn': {'entity': 'https://w3id.org/dcso/ns/core#dmp_0_dataset_1_distribution_0_license_0',\n",
       "    'property': 'https://w3id.org/dcso/ns/core#licenseRef'},\n",
       "   'value': 'true',\n",
       "   'softwareAgent': {'title': 'maDMPEvaluator', 'description': ''}}],\n",
       " 'sums': {'availability': 3.0},\n",
       " 'averages': {'availability': 0.5}}"
      ]
     },
     "execution_count": 13,
     "metadata": {},
     "output_type": "execute_result"
    }
   ],
   "source": [
    "report"
   ]
  },
  {
   "cell_type": "code",
   "execution_count": 14,
   "id": "4da0ec25a5596066",
   "metadata": {
    "ExecuteTime": {
     "end_time": "2024-07-26T13:14:36.523729Z",
     "start_time": "2024-07-26T13:14:36.516797Z"
    }
   },
   "outputs": [
    {
     "data": {
      "text/plain": [
       "{'availability': 3.0}"
      ]
     },
     "execution_count": 14,
     "metadata": {},
     "output_type": "execute_result"
    }
   ],
   "source": [
    "report[\"sums\"]"
   ]
  },
  {
   "cell_type": "code",
   "execution_count": 15,
   "id": "5479655f835e1b95",
   "metadata": {
    "ExecuteTime": {
     "end_time": "2024-07-26T13:14:36.530611Z",
     "start_time": "2024-07-26T13:14:36.524743Z"
    }
   },
   "outputs": [
    {
     "data": {
      "text/plain": [
       "{'availability': 0.5}"
      ]
     },
     "execution_count": 15,
     "metadata": {},
     "output_type": "execute_result"
    }
   ],
   "source": [
    "report[\"averages\"]"
   ]
  },
  {
   "cell_type": "markdown",
   "id": "54e8a2f7cd57dac7",
   "metadata": {},
   "source": [
    "### DMP Evaluation Examples\n",
    "To show the correctness of the resulting quality measurements we provide examples and manually evaluate the minimal DMP according to a subset of the goals and dimensions implemented in the prototype and compare the resulting measurements with the result of a manual evaluation. This minimal DMP is available in data/case-study/maDMPs/evaluation/minimal.json.\n",
    "\n",
    "For each dimension considered, we will provide positive cases where the DMP meets\n",
    "the requirements and negative case where we alter the given DMP to introduce an issue\n",
    "that should be detected and included in the evaluation measurements."
   ]
  },
  {
   "cell_type": "markdown",
   "id": "74e1ce044129f298",
   "metadata": {},
   "source": [
    "#### G1 Completeness\n",
    "For the examples regarding the goal G1 we will consider the evaluation of the dimensions\n",
    "DCS Completeness, but not Extension Completeness as the the generation of measure-\n",
    "ments for metrics of both dimensions makes use of equivalent methods and only the\n",
    "definition of the underlying guideline is different. We present two examples of DCS\n",
    "completeness evaluation: One positive case where the DMP fulfills all completeness\n",
    "requirements and one negative case where the DMP is missing a required item to be\n",
    "complete with regard to the DCS application profile."
   ]
  },
  {
   "cell_type": "code",
   "id": "b01b78892ca7eb14",
   "metadata": {
    "ExecuteTime": {
     "end_time": "2024-07-28T18:32:18.284130Z",
     "start_time": "2024-07-28T18:31:38.336677Z"
    }
   },
   "source": [
    "json_data = {\n",
    "    'dmpLoaderParameters': {\n",
    "        'dmpLoader': 'JSON-FILE',\n",
    "        'dmpIdentifier': 'evaluation/not-dcs-complete.json',\n",
    "    },\n",
    "    'dataLifecycle': 'PUBLISHED',\n",
    "    'dimensions': [\"dcs_completeness\"],\n",
    "    'categories': []\n",
    "}\n",
    "\n",
    "headers = {\n",
    "    'Content-Type': 'application/json'\n",
    "}\n",
    "\n",
    "response = requests.post('http://localhost:8080/api/evaluation/evaluate', headers=headers, json=json_data)\n",
    "\n",
    "result = response.json()\n",
    "result"
   ],
   "outputs": [
    {
     "data": {
      "text/plain": [
       "{'dmpStoreId': 'b785ac16-ee03-490d-b246-4bd1e994ab3f',\n",
       " 'evaluationId': 'fb093a83-0316-4f9e-b28d-d44b42aab008',\n",
       " 'measurements': [{'lifeCycleStage': {'title': 'PUBLISHED'},\n",
       "   'isMeasurementOf': {'identifier': 'required_entity_or_property_existent',\n",
       "    'description': 'Existence of a required entity or property according to the specification',\n",
       "    'title': 'DCS Completeness',\n",
       "    'inDimension': {'inCategory': {'title': 'COMPLETENESS'},\n",
       "     'title': 'DCS_COMPLETENESS'},\n",
       "    'applicableDMPLifeCycles': [{'title': 'PLANNING'}],\n",
       "    'expectedDataType': 'http://www.w3.org/2001/XMLSchema#boolean',\n",
       "    'metricTests': []},\n",
       "   'guidance': {'title': 'SHACL Report',\n",
       "    'description': '<https://w3id.org/dcso/ns/core#hasContact>: minCount[1]: Invalid cardinality: expected min 1: Got count = 0'},\n",
       "   'computedOn': {'entity': 'https://w3id.org/dcso/ns/core#dmp_0'},\n",
       "   'value': False,\n",
       "   'softwareAgent': {'title': 'Apache Jena SHACL Validator'}}]}"
      ]
     },
     "execution_count": 12,
     "metadata": {},
     "output_type": "execute_result"
    }
   ],
   "execution_count": 12
  },
  {
   "cell_type": "markdown",
   "id": "e345dc6e3166763c",
   "metadata": {},
   "source": [
    "#### G2 Feasibility"
   ]
  },
  {
   "cell_type": "markdown",
   "id": "3a81ae0443cffeb",
   "metadata": {},
   "source": [
    "##### Accuracy\n",
    "To evaluate accuracy we modified the minimal DMP and manually added information which the solution should verify by comparing it with the information retrieved from trusted sources.\n"
   ]
  },
  {
   "metadata": {
    "jupyter": {
     "is_executing": true
    },
    "ExecuteTime": {
     "start_time": "2024-07-28T19:13:17.236096Z"
    }
   },
   "cell_type": "code",
   "source": [
    "json_data = {\n",
    "    'dmpLoaderParameters': {\n",
    "        'dmpLoader': 'JSON-FILE',\n",
    "        'dmpIdentifier': 'evaluation/minimal-with-host.json',\n",
    "    },\n",
    "    'dataLifecycle': 'PUBLISHED',\n",
    "    'dimensions': [\"dcs_completeness\"],\n",
    "    'categories': []\n",
    "}\n",
    "\n",
    "headers = {\n",
    "    'Content-Type': 'application/json'\n",
    "}\n",
    "\n",
    "response = requests.post('http://localhost:8080/api/evaluation/evaluate', headers=headers, json=json_data)\n",
    "\n",
    "result = response.json()\n",
    "result"
   ],
   "id": "eb8a3855010d8c07",
   "outputs": [],
   "execution_count": null
  },
  {
   "cell_type": "markdown",
   "id": "98aa75668e672872",
   "metadata": {},
   "source": [
    "##### Availibility"
   ]
  },
  {
   "cell_type": "markdown",
   "id": "ed4b4d924dc94984",
   "metadata": {},
   "source": [
    "#### Quality of Actions\n",
    "We do not consider the evaluation of the correctness of the measurements of this dimension as they are provided by an external service, namely the F-UJI evaluator."
   ]
  },
  {
   "cell_type": "markdown",
   "id": "20a28f86909b4eff",
   "metadata": {},
   "source": [
    "#### G4 Compliance\n",
    "We proposed 3 dimensions, Guideline Compliance, DCS Compliance and Extension compliance."
   ]
  }
 ],
 "metadata": {
  "kernelspec": {
   "display_name": "Python 3 (ipykernel)",
   "language": "python",
   "name": "python3"
  },
  "language_info": {
   "codemirror_mode": {
    "name": "ipython",
    "version": 3
   },
   "file_extension": ".py",
   "mimetype": "text/x-python",
   "name": "python",
   "nbconvert_exporter": "python",
   "pygments_lexer": "ipython3",
   "version": "3.12.3"
  }
 },
 "nbformat": 4,
 "nbformat_minor": 5
}
