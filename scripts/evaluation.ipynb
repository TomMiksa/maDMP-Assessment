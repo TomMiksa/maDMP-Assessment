{
 "cells": [
  {
   "cell_type": "markdown",
   "id": "586aac66139de0da",
   "metadata": {},
   "source": [
    "# Examples\n",
    "This Notebook serves as an illustrative examples on the usage of the prototype. It shows how the different APIs can be accessed and how the prototype can be used to provide several types of evaluation measurements to assist reviewers in the assessment of DMPs."
   ]
  },
  {
   "cell_type": "markdown",
   "id": "846409bbe5bc4ba1",
   "metadata": {},
   "source": [
    "## Setup Dependencies\n",
    "Before running any requests against the prototype the DMP Evaluator Application has to be running and the requests package has to be installed in this workbench in order to communicate the the prototype endpoints."
   ]
  },
  {
   "cell_type": "code",
   "id": "a3b8899517b14c9d",
   "metadata": {
    "ExecuteTime": {
     "end_time": "2024-07-29T14:41:34.104914Z",
     "start_time": "2024-07-29T14:41:32.697419Z"
    }
   },
   "source": [
    "import sys\n",
    "!{sys.executable} -m pip install requests"
   ],
   "outputs": [
    {
     "name": "stdout",
     "output_type": "stream",
     "text": [
      "Requirement already satisfied: requests in c:\\users\\lukas\\ideaprojects\\madmp-assesment\\venv\\lib\\site-packages (2.32.3)\n",
      "Requirement already satisfied: charset-normalizer<4,>=2 in c:\\users\\lukas\\ideaprojects\\madmp-assesment\\venv\\lib\\site-packages (from requests) (3.3.2)\n",
      "Requirement already satisfied: idna<4,>=2.5 in c:\\users\\lukas\\ideaprojects\\madmp-assesment\\venv\\lib\\site-packages (from requests) (3.7)\n",
      "Requirement already satisfied: urllib3<3,>=1.21.1 in c:\\users\\lukas\\ideaprojects\\madmp-assesment\\venv\\lib\\site-packages (from requests) (2.2.2)\n",
      "Requirement already satisfied: certifi>=2017.4.17 in c:\\users\\lukas\\ideaprojects\\madmp-assesment\\venv\\lib\\site-packages (from requests) (2024.7.4)\n"
     ]
    },
    {
     "name": "stderr",
     "output_type": "stream",
     "text": [
      "\n",
      "[notice] A new release of pip is available: 23.2.1 -> 24.2\n",
      "[notice] To update, run: python.exe -m pip install --upgrade pip\n"
     ]
    }
   ],
   "execution_count": 17
  },
  {
   "cell_type": "code",
   "id": "initial_id",
   "metadata": {
    "ExecuteTime": {
     "end_time": "2024-07-29T14:41:34.113999Z",
     "start_time": "2024-07-29T14:41:34.106234Z"
    }
   },
   "source": [
    "import requests"
   ],
   "outputs": [],
   "execution_count": 18
  },
  {
   "cell_type": "markdown",
   "id": "3c7701031ee34fd5",
   "metadata": {},
   "source": [
    "## Information on Implemented Components\n",
    "In the examples provided in this Section we query the endpoints of the prototype which provide meta-information on the implemented components. "
   ]
  },
  {
   "cell_type": "markdown",
   "id": "9a0f067d2c93597a",
   "metadata": {},
   "source": [
    "### Get information on available DMP loaders\n",
    "The prototype provides the ability to integrate different DMP loaders in oder to fetch DMPs from different sources such as local files or remote sources and convert the gathered DMPs into a uniform DCS DMP in Turtle and JSON notation. The following call lists the DMP loader components available in the prototype implementation. In this case a component with the identifier \"JSON-FILE\" which loads JSON DMPs from the filesystem."
   ]
  },
  {
   "cell_type": "code",
   "id": "4b01c68da4c47ac9",
   "metadata": {
    "ExecuteTime": {
     "end_time": "2024-07-29T14:41:34.138214Z",
     "start_time": "2024-07-29T14:41:34.115006Z"
    }
   },
   "source": [
    "dmp_loader_info = requests.get('http://localhost:8080/info/dmp-providers')\n",
    "dmp_loader_info.json()"
   ],
   "outputs": [
    {
     "data": {
      "text/plain": [
       "['JSON-FILE']"
      ]
     },
     "execution_count": 19,
     "metadata": {},
     "output_type": "execute_result"
    }
   ],
   "execution_count": 19
  },
  {
   "cell_type": "markdown",
   "id": "5710803ec8853b13",
   "metadata": {},
   "source": [
    "### Get information on available Context providers\n",
    "The prototype provides the ability to integrate different Context providers in oder to fetch contextual information regarding the given DMP and provide it in a uniform format to be used downstream in the evaluation of the DMP by the prototype solution. The following call lists the Context provider components available in the prototype implementation.\n",
    "\n",
    "In this case there are 2 context loader components available. The \"OPEN_AIRE\" context loader retrieves more information on datasets mentions a DMP and the \"RE3DATA\" context loader which provides contextual information for hosts mentioned in a DMP."
   ]
  },
  {
   "cell_type": "code",
   "id": "f2eab6df217a7cd1",
   "metadata": {
    "ExecuteTime": {
     "end_time": "2024-07-29T14:41:34.147445Z",
     "start_time": "2024-07-29T14:41:34.139222Z"
    }
   },
   "source": [
    "context_loader_info = requests.get('http://localhost:8080/info/context-providers')\n",
    "context_loader_info.json()"
   ],
   "outputs": [
    {
     "data": {
      "text/plain": [
       "['OPEN_AIRE', 'RE3DATA']"
      ]
     },
     "execution_count": 20,
     "metadata": {},
     "output_type": "execute_result"
    }
   ],
   "execution_count": 20
  },
  {
   "cell_type": "markdown",
   "id": "d37627fb53d98536",
   "metadata": {},
   "source": [
    "### Get information on available evaluators\n",
    "The protype implementation provides the ability to integrate \"Evaluator\" components which independently provide DMPQV measurements to contribute to to the overall evaluation result. Ealuator components contribute measurements for exactly 1 evaluation dimension. The implementation provides a system that evaluator components can communicate the scope of their measurements with other actors by providing informtion of the corresponding evaluation dimension, category and the metric that are targeted with the provided measurements. The call below lists all implemented dimensions grouped by their evaluation category. "
   ]
  },
  {
   "cell_type": "code",
   "id": "bd7274175b2795d8",
   "metadata": {
    "ExecuteTime": {
     "end_time": "2024-07-29T14:41:34.161024Z",
     "start_time": "2024-07-29T14:41:34.147445Z"
    }
   },
   "source": [
    "eval_info = requests.get('http://localhost:8080/api/evaluation/info/evaluators')\n",
    "eval_info.json()"
   ],
   "outputs": [
    {
     "data": {
      "text/plain": [
       "[{'category': 'COMPLETENESS',\n",
       "  'dimensions': ['DCS_COMPLETENESS', 'SCIENCE_EUROPE_EXTENSION_COMPLETENESS']},\n",
       " {'category': 'COMPLIANCE',\n",
       "  'dimensions': ['DCS_COMPLIANCE', 'SCIENCE_EUROPE_GUIDELINE_COMPLIANCE']},\n",
       " {'category': 'FEASIBILITY', 'dimensions': ['ACCURACY', 'AVAILABILITY']},\n",
       " {'category': 'QUALITY_OF_ACTIONS', 'dimensions': ['FAIR']}]"
      ]
     },
     "execution_count": 21,
     "metadata": {},
     "output_type": "execute_result"
    }
   ],
   "execution_count": 21
  },
  {
   "cell_type": "markdown",
   "id": "5e443006a97cd0d1",
   "metadata": {},
   "source": [
    "### UC1 Call Evaluation Endpoint to produce all available measurements for the minimal DMP\n",
    "The call below shows the basic case of the evaluation of the DMP stored in 'evaluation/minimal.json' for the data lifecycle 'published'. Because no restrictions on evaluation categories and dimensions is given, the evlation is considering all possible metrics."
   ]
  },
  {
   "cell_type": "code",
   "id": "aedf07a0a9906e13",
   "metadata": {
    "ExecuteTime": {
     "end_time": "2024-07-29T14:41:42.578386Z",
     "start_time": "2024-07-29T14:41:34.162036Z"
    }
   },
   "source": [
    "json_data = {\n",
    "    'dmpLoaderParameters': {\n",
    "        'dmpLoader': 'JSON-FILE',\n",
    "        'dmpIdentifier': 'evaluation/minimal.json',\n",
    "    },\n",
    "    'dataLifecycle': 'PUBLISHED',\n",
    "    'dimensions': [],\n",
    "    'categories': []\n",
    "}\n",
    "\n",
    "headers = {\n",
    "    'Content-Type': 'application/json'\n",
    "}\n",
    "\n",
    "response = requests.post('http://localhost:8080/api/evaluation/evaluate', headers=headers, json=json_data)\n",
    "\n",
    "result = response.json()"
   ],
   "outputs": [],
   "execution_count": 22
  },
  {
   "cell_type": "code",
   "id": "b0d2d0e35058c2e2",
   "metadata": {
    "ExecuteTime": {
     "end_time": "2024-07-29T14:41:42.585772Z",
     "start_time": "2024-07-29T14:41:42.579394Z"
    }
   },
   "source": [
    "result"
   ],
   "outputs": [
    {
     "data": {
      "text/plain": [
       "{'dmpStoreId': '30bcc989-7d70-4dd9-803b-7b3757183812',\n",
       " 'evaluationId': '63f40556-2211-4c05-bd7e-5672354d2a0b',\n",
       " 'measurements': [{'lifeCycleStage': {'title': 'PUBLISHED'},\n",
       "   'isMeasurementOf': {'identifier': 'required_entity_or_property_existent',\n",
       "    'description': 'Existence of a required entity or property according to the specification',\n",
       "    'title': 'DCS Completeness',\n",
       "    'inDimension': {'inCategory': {'title': 'COMPLETENESS'},\n",
       "     'title': 'DCS_COMPLETENESS'},\n",
       "    'applicableDMPLifeCycles': [{'title': 'PLANNING'}],\n",
       "    'expectedDataType': 'http://www.w3.org/2001/XMLSchema#boolean',\n",
       "    'metricTests': []},\n",
       "   'computedOn': {'entity': 'dmp'},\n",
       "   'value': True,\n",
       "   'softwareAgent': {'title': 'Apache Jena SHACL Validator'},\n",
       "   'testResults': []},\n",
       "  {'lifeCycleStage': {'title': 'PUBLISHED'},\n",
       "   'isMeasurementOf': {'identifier': 'dcs_multiplicity_metric',\n",
       "    'description': 'Mutltiplicity of value in the DMP in accordance with the DCS application profile',\n",
       "    'title': 'DCS Multiplicity Compliance',\n",
       "    'inDimension': {'inCategory': {'title': 'COMPLIANCE'},\n",
       "     'title': 'DCS_COMPLIANCE',\n",
       "     'hasParentDimension': {'inCategory': {'title': 'COMPLIANCE'},\n",
       "      'title': 'GUIDELINE_COMPLIANCE'}},\n",
       "    'applicableDMPLifeCycles': [{'title': 'PLANNING'}],\n",
       "    'expectedDataType': 'http://www.w3.org/2001/XMLSchema#boolean',\n",
       "    'metricTests': []},\n",
       "   'computedOn': {'entity': 'dmp', 'property': ''},\n",
       "   'value': True,\n",
       "   'softwareAgent': {'title': 'Apache Jena SHACL Validator'},\n",
       "   'testResults': []},\n",
       "  {'lifeCycleStage': {'title': 'PUBLISHED'},\n",
       "   'isMeasurementOf': {'identifier': 'existence_of_linked_resource_metric',\n",
       "    'description': 'Availability of a linked resource: 10.5281/zenodo.13119047',\n",
       "    'title': 'Existence of linked resource',\n",
       "    'inDimension': {'inCategory': {'title': 'FEASIBILITY'},\n",
       "     'title': 'AVAILABILITY'},\n",
       "    'applicableDMPLifeCycles': [{'title': 'PUBLISHED'}],\n",
       "    'expectedDataType': 'http://www.w3.org/2001/XMLSchema#boolean',\n",
       "    'metricTests': []},\n",
       "   'computedOn': {'entity': 'https://w3id.org/dcso/ns/core#dmp_0',\n",
       "    'property': 'https://w3id.org/dcso/ns/core#dmp_0_dmpID_0'},\n",
       "   'value': 'true',\n",
       "   'softwareAgent': {'title': 'maDMPEvaluator', 'description': ''}},\n",
       "  {'lifeCycleStage': {'title': 'PUBLISHED'},\n",
       "   'isMeasurementOf': {'identifier': 'existence_of_linked_resource_metric',\n",
       "    'description': 'Availability of a linked resource: 10.5281/zenodo.4699026',\n",
       "    'title': 'Existence of linked resource',\n",
       "    'inDimension': {'inCategory': {'title': 'FEASIBILITY'},\n",
       "     'title': 'AVAILABILITY'},\n",
       "    'applicableDMPLifeCycles': [{'title': 'PUBLISHED'}],\n",
       "    'expectedDataType': 'http://www.w3.org/2001/XMLSchema#boolean',\n",
       "    'metricTests': []},\n",
       "   'computedOn': {'entity': 'https://w3id.org/dcso/ns/core#dmp_0_dataset_0',\n",
       "    'property': 'https://w3id.org/dcso/ns/core#dmp_0_dataset_0_datasetId_0'},\n",
       "   'value': 'true',\n",
       "   'softwareAgent': {'title': 'maDMPEvaluator', 'description': ''}},\n",
       "  {'lifeCycleStage': {'title': 'PUBLISHED'},\n",
       "   'isMeasurementOf': {'identifier': 'existence_of_linked_resource_metric',\n",
       "    'description': 'Availability of a linked resource: 0000-0002-5164-2690',\n",
       "    'title': 'Existence of linked resource',\n",
       "    'inDimension': {'inCategory': {'title': 'FEASIBILITY'},\n",
       "     'title': 'AVAILABILITY'},\n",
       "    'applicableDMPLifeCycles': [{'title': 'PUBLISHED'}],\n",
       "    'expectedDataType': 'http://www.w3.org/2001/XMLSchema#boolean',\n",
       "    'metricTests': []},\n",
       "   'computedOn': {'entity': 'https://w3id.org/dcso/ns/core#dmp_0_contact_0',\n",
       "    'property': 'https://w3id.org/dcso/ns/core#dmp_0_contact_0_contactId_0'},\n",
       "   'value': 'true',\n",
       "   'softwareAgent': {'title': 'maDMPEvaluator', 'description': ''}}]}"
      ]
     },
     "execution_count": 23,
     "metadata": {},
     "output_type": "execute_result"
    }
   ],
   "execution_count": 23
  },
  {
   "cell_type": "markdown",
   "id": "12dbaede8738e31c",
   "metadata": {},
   "source": [
    "The code below shows which evaluation dimensions are included in the evaluation. The expected values are \"DCS Completeness\", \"Accuracy\", \"Availability\" as well as \"Guideline Compliance\" and \"DCS Compliance\". Furthermore it should include measurements from the FAIR dimensions \"Findable\", \"Accesible\", \"Interoperable\" and \"Reusable\". If the measurements from the FAIR evaluation are not included it could be, that the external F-UJI service is not properly running. It is included as a Docker container."
   ]
  },
  {
   "cell_type": "code",
   "id": "62fda9494fac2088",
   "metadata": {
    "ExecuteTime": {
     "end_time": "2024-07-29T14:41:42.590656Z",
     "start_time": "2024-07-29T14:41:42.585772Z"
    }
   },
   "source": [
    "measurements = result[\"measurements\"]\n",
    "evalDimensions = set([x[\"isMeasurementOf\"][\"inDimension\"][\"title\"] for x in measurements])\n",
    "evalDimensions"
   ],
   "outputs": [
    {
     "data": {
      "text/plain": [
       "{'AVAILABILITY', 'DCS_COMPLETENESS', 'DCS_COMPLIANCE'}"
      ]
     },
     "execution_count": 24,
     "metadata": {},
     "output_type": "execute_result"
    }
   ],
   "execution_count": 24
  },
  {
   "cell_type": "markdown",
   "id": "7299368faf7895a",
   "metadata": {},
   "source": [
    "### UC3 Generate evaluation report: Aggregate and Average Measurements\n",
    "While the DMPQV quality measurements contain all the information resulting from the DMP evaluation, they might not provide immediate benefit to the reviewer. For example, if a reviewer wants to know how many points a data set scores in a FAIR evaluation or what the mean \\acrshort{fair} score is, then this information needs to be extracted from the available measurements. As a proof of concept, we implemented the calculation of sums and mean values over DMPQV dimensions to show how the information can be processed.\n",
    "\n",
    "For this test case the evaluation of the DMP \"ex7-dataset-many.json\" is required as a precondition. This DMP contains 3 references that can be resolved and 3 references which are broken. After initiating the evaluation of this DMP, the reference to the result is returned with which the evaluation report can be requested with the intent do contain the sum and the average of the values of the measurements of the dimensions availability."
   ]
  },
  {
   "cell_type": "code",
   "id": "78ecbc0a2e545728",
   "metadata": {
    "ExecuteTime": {
     "end_time": "2024-07-29T14:41:54.069912Z",
     "start_time": "2024-07-29T14:41:42.590966Z"
    }
   },
   "source": [
    "json_data = {\n",
    "    'dmpLoaderParameters': {\n",
    "        'dmpLoader': 'JSON-FILE',\n",
    "        'dmpIdentifier': 'dcs-repo-examples/ex7-dataset-many.json',\n",
    "    },\n",
    "    'dataLifecycle': 'PUBLISHED'\n",
    "}\n",
    "\n",
    "headers = {\n",
    "    'Content-Type': 'application/json'\n",
    "}\n",
    "\n",
    "response = requests.post('http://localhost:8080/api/evaluation/evaluate', headers=headers, json=json_data)\n",
    "\n",
    "exManyResult = response.json()\n",
    "exManyEvaluationID = exManyResult[\"evaluationId\"]"
   ],
   "outputs": [],
   "execution_count": 25
  },
  {
   "cell_type": "code",
   "id": "b36279cfe2b05581",
   "metadata": {
    "ExecuteTime": {
     "end_time": "2024-07-29T14:41:54.077205Z",
     "start_time": "2024-07-29T14:41:54.071757Z"
    }
   },
   "source": [
    "exManyResult"
   ],
   "outputs": [
    {
     "data": {
      "text/plain": [
       "{'dmpStoreId': '8febb306-3ea2-46c1-a121-52ee02e26e56',\n",
       " 'evaluationId': '779d41e8-0a8b-4654-8944-00c55db0a864',\n",
       " 'measurements': [{'lifeCycleStage': {'title': 'PUBLISHED'},\n",
       "   'isMeasurementOf': {'identifier': 'required_entity_or_property_existent',\n",
       "    'description': 'Existence of a required entity or property according to the specification',\n",
       "    'title': 'DCS Completeness',\n",
       "    'inDimension': {'inCategory': {'title': 'COMPLETENESS'},\n",
       "     'title': 'DCS_COMPLETENESS'},\n",
       "    'applicableDMPLifeCycles': [{'title': 'PLANNING'}],\n",
       "    'expectedDataType': 'http://www.w3.org/2001/XMLSchema#boolean',\n",
       "    'metricTests': []},\n",
       "   'computedOn': {'entity': 'dmp'},\n",
       "   'value': True,\n",
       "   'softwareAgent': {'title': 'Apache Jena SHACL Validator'},\n",
       "   'testResults': []},\n",
       "  {'lifeCycleStage': {'title': 'PUBLISHED'},\n",
       "   'isMeasurementOf': {'identifier': 'dcs_multiplicity_metric',\n",
       "    'description': 'Mutltiplicity of value in the DMP in accordance with the DCS application profile',\n",
       "    'title': 'DCS Multiplicity Compliance',\n",
       "    'inDimension': {'inCategory': {'title': 'COMPLIANCE'},\n",
       "     'title': 'DCS_COMPLIANCE',\n",
       "     'hasParentDimension': {'inCategory': {'title': 'COMPLIANCE'},\n",
       "      'title': 'GUIDELINE_COMPLIANCE'}},\n",
       "    'applicableDMPLifeCycles': [{'title': 'PLANNING'}],\n",
       "    'expectedDataType': 'http://www.w3.org/2001/XMLSchema#boolean',\n",
       "    'metricTests': []},\n",
       "   'computedOn': {'entity': 'dmp', 'property': ''},\n",
       "   'value': True,\n",
       "   'softwareAgent': {'title': 'Apache Jena SHACL Validator'},\n",
       "   'testResults': []},\n",
       "  {'lifeCycleStage': {'title': 'PUBLISHED'},\n",
       "   'isMeasurementOf': {'identifier': 'existence_of_linked_resource_metric',\n",
       "    'description': 'Availability of a linked resource: 10.1234/zenodo.123456789',\n",
       "    'title': 'Existence of linked resource',\n",
       "    'inDimension': {'inCategory': {'title': 'FEASIBILITY'},\n",
       "     'title': 'AVAILABILITY'},\n",
       "    'applicableDMPLifeCycles': [{'title': 'PUBLISHED'}],\n",
       "    'expectedDataType': 'http://www.w3.org/2001/XMLSchema#boolean',\n",
       "    'metricTests': []},\n",
       "   'computedOn': {'entity': 'https://w3id.org/dcso/ns/core#dmp_0_dataset_1',\n",
       "    'property': 'https://w3id.org/dcso/ns/core#dmp_0_dataset_1_datasetId_0'},\n",
       "   'value': 'false',\n",
       "   'softwareAgent': {'title': 'maDMPEvaluator', 'description': ''}},\n",
       "  {'lifeCycleStage': {'title': 'PUBLISHED'},\n",
       "   'isMeasurementOf': {'identifier': 'existence_of_linked_resource_metric',\n",
       "    'description': 'Availability of a linked resource: https://doi.org/10.0000/00.0.1234',\n",
       "    'title': 'Existence of linked resource',\n",
       "    'inDimension': {'inCategory': {'title': 'FEASIBILITY'},\n",
       "     'title': 'AVAILABILITY'},\n",
       "    'applicableDMPLifeCycles': [{'title': 'PUBLISHED'}],\n",
       "    'expectedDataType': 'http://www.w3.org/2001/XMLSchema#boolean',\n",
       "    'metricTests': []},\n",
       "   'computedOn': {'entity': 'https://w3id.org/dcso/ns/core#dmp_0',\n",
       "    'property': 'https://w3id.org/dcso/ns/core#dmp_0_dmpID_0'},\n",
       "   'value': 'false',\n",
       "   'softwareAgent': {'title': 'maDMPEvaluator', 'description': ''}},\n",
       "  {'lifeCycleStage': {'title': 'PUBLISHED'},\n",
       "   'isMeasurementOf': {'identifier': 'existence_of_linked_resource_metric',\n",
       "    'description': 'Availability of a linked resource: 10.9876/zenodo.1234567',\n",
       "    'title': 'Existence of linked resource',\n",
       "    'inDimension': {'inCategory': {'title': 'FEASIBILITY'},\n",
       "     'title': 'AVAILABILITY'},\n",
       "    'applicableDMPLifeCycles': [{'title': 'PUBLISHED'}],\n",
       "    'expectedDataType': 'http://www.w3.org/2001/XMLSchema#boolean',\n",
       "    'metricTests': []},\n",
       "   'computedOn': {'entity': 'https://w3id.org/dcso/ns/core#dmp_0_dataset_0',\n",
       "    'property': 'https://w3id.org/dcso/ns/core#dmp_0_dataset_0_datasetId_0'},\n",
       "   'value': 'false',\n",
       "   'softwareAgent': {'title': 'maDMPEvaluator', 'description': ''}},\n",
       "  {'lifeCycleStage': {'title': 'PUBLISHED'},\n",
       "   'isMeasurementOf': {'identifier': 'existence_of_linked_resource_metric',\n",
       "    'description': 'Availability of a linked resource: https://orcid.org/0000-0000-0000-0000',\n",
       "    'title': 'Existence of linked resource',\n",
       "    'inDimension': {'inCategory': {'title': 'FEASIBILITY'},\n",
       "     'title': 'AVAILABILITY'},\n",
       "    'applicableDMPLifeCycles': [{'title': 'PUBLISHED'}],\n",
       "    'expectedDataType': 'http://www.w3.org/2001/XMLSchema#boolean',\n",
       "    'metricTests': []},\n",
       "   'computedOn': {'entity': 'https://w3id.org/dcso/ns/core#dmp_0_contact_0',\n",
       "    'property': 'https://w3id.org/dcso/ns/core#dmp_0_contact_0_contactId_0'},\n",
       "   'value': 'true',\n",
       "   'softwareAgent': {'title': 'maDMPEvaluator', 'description': ''}},\n",
       "  {'lifeCycleStage': {'title': 'PUBLISHED'},\n",
       "   'isMeasurementOf': {'identifier': 'existence_of_linked_resource_metric',\n",
       "    'description': 'Availability of a linked resource: https://creativecommons.org/licenses/by/4.0/',\n",
       "    'title': 'Existence of linked resource',\n",
       "    'inDimension': {'inCategory': {'title': 'FEASIBILITY'},\n",
       "     'title': 'AVAILABILITY'},\n",
       "    'applicableDMPLifeCycles': [{'title': 'PUBLISHED'}],\n",
       "    'expectedDataType': 'http://www.w3.org/2001/XMLSchema#boolean',\n",
       "    'metricTests': []},\n",
       "   'computedOn': {'entity': 'https://w3id.org/dcso/ns/core#dmp_0_dataset_0_distribution_0_license_0',\n",
       "    'property': 'https://w3id.org/dcso/ns/core#licenseRef'},\n",
       "   'value': 'true',\n",
       "   'softwareAgent': {'title': 'maDMPEvaluator', 'description': ''}},\n",
       "  {'lifeCycleStage': {'title': 'PUBLISHED'},\n",
       "   'isMeasurementOf': {'identifier': 'existence_of_linked_resource_metric',\n",
       "    'description': 'Availability of a linked resource: https://creativecommons.org/licenses/by/4.0/',\n",
       "    'title': 'Existence of linked resource',\n",
       "    'inDimension': {'inCategory': {'title': 'FEASIBILITY'},\n",
       "     'title': 'AVAILABILITY'},\n",
       "    'applicableDMPLifeCycles': [{'title': 'PUBLISHED'}],\n",
       "    'expectedDataType': 'http://www.w3.org/2001/XMLSchema#boolean',\n",
       "    'metricTests': []},\n",
       "   'computedOn': {'entity': 'https://w3id.org/dcso/ns/core#dmp_0_dataset_1_distribution_0_license_0',\n",
       "    'property': 'https://w3id.org/dcso/ns/core#licenseRef'},\n",
       "   'value': 'true',\n",
       "   'softwareAgent': {'title': 'maDMPEvaluator', 'description': ''}}]}"
      ]
     },
     "execution_count": 26,
     "metadata": {},
     "output_type": "execute_result"
    }
   ],
   "execution_count": 26
  },
  {
   "cell_type": "markdown",
   "id": "66248400f2ab7f09",
   "metadata": {},
   "source": [
    "This is the evaluation id from the evaluation mentioned above that the prototype uses to reference the evaluation result an all corresponding artifacts."
   ]
  },
  {
   "cell_type": "code",
   "id": "ab4c4c94ed77ebe7",
   "metadata": {
    "ExecuteTime": {
     "end_time": "2024-07-29T14:41:54.085686Z",
     "start_time": "2024-07-29T14:41:54.077877Z"
    }
   },
   "source": [
    "exManyEvaluationID"
   ],
   "outputs": [
    {
     "data": {
      "text/plain": [
       "'779d41e8-0a8b-4654-8944-00c55db0a864'"
      ]
     },
     "execution_count": 27,
     "metadata": {},
     "output_type": "execute_result"
    }
   ],
   "execution_count": 27
  },
  {
   "cell_type": "code",
   "id": "efe5880ef8232a98",
   "metadata": {
    "ExecuteTime": {
     "end_time": "2024-07-29T14:41:54.140497Z",
     "start_time": "2024-07-29T14:41:54.086696Z"
    }
   },
   "source": [
    "json_data = {\n",
    "    \"evaluationId\": exManyEvaluationID,\n",
    "    \"aggregateDimensions\": [\n",
    "        \"availability\"\n",
    "    ],\n",
    "    \"averageDimensions\": [\n",
    "        \"availability\"\n",
    "    ]\n",
    "}\n",
    "\n",
    "headers = {\n",
    "    'Content-Type': 'application/json'\n",
    "}\n",
    "\n",
    "response = requests.post('http://localhost:8080/api/evaluation/createReport', headers=headers, json=json_data)\n",
    "\n",
    "report = response.json()\n",
    "report[\"dmp\"] = \"\""
   ],
   "outputs": [],
   "execution_count": 28
  },
  {
   "cell_type": "code",
   "id": "4874cedd1f3c0a40",
   "metadata": {
    "ExecuteTime": {
     "end_time": "2024-07-29T14:41:54.147572Z",
     "start_time": "2024-07-29T14:41:54.140809Z"
    }
   },
   "source": [
    "report"
   ],
   "outputs": [
    {
     "data": {
      "text/plain": [
       "{'dmp': '',\n",
       " 'dmpFormat': 'RDF/JSON',\n",
       " 'measurements': [{'lifeCycleStage': {'title': 'PUBLISHED'},\n",
       "   'isMeasurementOf': {'identifier': 'required_entity_or_property_existent',\n",
       "    'description': 'Existence of a required entity or property according to the specification',\n",
       "    'title': 'DCS Completeness',\n",
       "    'inDimension': {'inCategory': {'title': 'COMPLETENESS'},\n",
       "     'title': 'DCS_COMPLETENESS'},\n",
       "    'applicableDMPLifeCycles': [{'title': 'PLANNING'}],\n",
       "    'expectedDataType': 'http://www.w3.org/2001/XMLSchema#boolean',\n",
       "    'metricTests': []},\n",
       "   'computedOn': {'entity': 'dmp'},\n",
       "   'value': True,\n",
       "   'softwareAgent': {'title': 'Apache Jena SHACL Validator'},\n",
       "   'testResults': []},\n",
       "  {'lifeCycleStage': {'title': 'PUBLISHED'},\n",
       "   'isMeasurementOf': {'identifier': 'dcs_multiplicity_metric',\n",
       "    'description': 'Mutltiplicity of value in the DMP in accordance with the DCS application profile',\n",
       "    'title': 'DCS Multiplicity Compliance',\n",
       "    'inDimension': {'inCategory': {'title': 'COMPLIANCE'},\n",
       "     'title': 'DCS_COMPLIANCE',\n",
       "     'hasParentDimension': {'inCategory': {'title': 'COMPLIANCE'},\n",
       "      'title': 'GUIDELINE_COMPLIANCE'}},\n",
       "    'applicableDMPLifeCycles': [{'title': 'PLANNING'}],\n",
       "    'expectedDataType': 'http://www.w3.org/2001/XMLSchema#boolean',\n",
       "    'metricTests': []},\n",
       "   'computedOn': {'entity': 'dmp', 'property': ''},\n",
       "   'value': True,\n",
       "   'softwareAgent': {'title': 'Apache Jena SHACL Validator'},\n",
       "   'testResults': []},\n",
       "  {'lifeCycleStage': {'title': 'PUBLISHED'},\n",
       "   'isMeasurementOf': {'identifier': 'existence_of_linked_resource_metric',\n",
       "    'description': 'Availability of a linked resource: 10.1234/zenodo.123456789',\n",
       "    'title': 'Existence of linked resource',\n",
       "    'inDimension': {'inCategory': {'title': 'FEASIBILITY'},\n",
       "     'title': 'AVAILABILITY'},\n",
       "    'applicableDMPLifeCycles': [{'title': 'PUBLISHED'}],\n",
       "    'expectedDataType': 'http://www.w3.org/2001/XMLSchema#boolean',\n",
       "    'metricTests': []},\n",
       "   'computedOn': {'entity': 'https://w3id.org/dcso/ns/core#dmp_0_dataset_1',\n",
       "    'property': 'https://w3id.org/dcso/ns/core#dmp_0_dataset_1_datasetId_0'},\n",
       "   'value': 'false',\n",
       "   'softwareAgent': {'title': 'maDMPEvaluator', 'description': ''}},\n",
       "  {'lifeCycleStage': {'title': 'PUBLISHED'},\n",
       "   'isMeasurementOf': {'identifier': 'existence_of_linked_resource_metric',\n",
       "    'description': 'Availability of a linked resource: https://doi.org/10.0000/00.0.1234',\n",
       "    'title': 'Existence of linked resource',\n",
       "    'inDimension': {'inCategory': {'title': 'FEASIBILITY'},\n",
       "     'title': 'AVAILABILITY'},\n",
       "    'applicableDMPLifeCycles': [{'title': 'PUBLISHED'}],\n",
       "    'expectedDataType': 'http://www.w3.org/2001/XMLSchema#boolean',\n",
       "    'metricTests': []},\n",
       "   'computedOn': {'entity': 'https://w3id.org/dcso/ns/core#dmp_0',\n",
       "    'property': 'https://w3id.org/dcso/ns/core#dmp_0_dmpID_0'},\n",
       "   'value': 'false',\n",
       "   'softwareAgent': {'title': 'maDMPEvaluator', 'description': ''}},\n",
       "  {'lifeCycleStage': {'title': 'PUBLISHED'},\n",
       "   'isMeasurementOf': {'identifier': 'existence_of_linked_resource_metric',\n",
       "    'description': 'Availability of a linked resource: 10.9876/zenodo.1234567',\n",
       "    'title': 'Existence of linked resource',\n",
       "    'inDimension': {'inCategory': {'title': 'FEASIBILITY'},\n",
       "     'title': 'AVAILABILITY'},\n",
       "    'applicableDMPLifeCycles': [{'title': 'PUBLISHED'}],\n",
       "    'expectedDataType': 'http://www.w3.org/2001/XMLSchema#boolean',\n",
       "    'metricTests': []},\n",
       "   'computedOn': {'entity': 'https://w3id.org/dcso/ns/core#dmp_0_dataset_0',\n",
       "    'property': 'https://w3id.org/dcso/ns/core#dmp_0_dataset_0_datasetId_0'},\n",
       "   'value': 'false',\n",
       "   'softwareAgent': {'title': 'maDMPEvaluator', 'description': ''}},\n",
       "  {'lifeCycleStage': {'title': 'PUBLISHED'},\n",
       "   'isMeasurementOf': {'identifier': 'existence_of_linked_resource_metric',\n",
       "    'description': 'Availability of a linked resource: https://orcid.org/0000-0000-0000-0000',\n",
       "    'title': 'Existence of linked resource',\n",
       "    'inDimension': {'inCategory': {'title': 'FEASIBILITY'},\n",
       "     'title': 'AVAILABILITY'},\n",
       "    'applicableDMPLifeCycles': [{'title': 'PUBLISHED'}],\n",
       "    'expectedDataType': 'http://www.w3.org/2001/XMLSchema#boolean',\n",
       "    'metricTests': []},\n",
       "   'computedOn': {'entity': 'https://w3id.org/dcso/ns/core#dmp_0_contact_0',\n",
       "    'property': 'https://w3id.org/dcso/ns/core#dmp_0_contact_0_contactId_0'},\n",
       "   'value': 'true',\n",
       "   'softwareAgent': {'title': 'maDMPEvaluator', 'description': ''}},\n",
       "  {'lifeCycleStage': {'title': 'PUBLISHED'},\n",
       "   'isMeasurementOf': {'identifier': 'existence_of_linked_resource_metric',\n",
       "    'description': 'Availability of a linked resource: https://creativecommons.org/licenses/by/4.0/',\n",
       "    'title': 'Existence of linked resource',\n",
       "    'inDimension': {'inCategory': {'title': 'FEASIBILITY'},\n",
       "     'title': 'AVAILABILITY'},\n",
       "    'applicableDMPLifeCycles': [{'title': 'PUBLISHED'}],\n",
       "    'expectedDataType': 'http://www.w3.org/2001/XMLSchema#boolean',\n",
       "    'metricTests': []},\n",
       "   'computedOn': {'entity': 'https://w3id.org/dcso/ns/core#dmp_0_dataset_0_distribution_0_license_0',\n",
       "    'property': 'https://w3id.org/dcso/ns/core#licenseRef'},\n",
       "   'value': 'true',\n",
       "   'softwareAgent': {'title': 'maDMPEvaluator', 'description': ''}},\n",
       "  {'lifeCycleStage': {'title': 'PUBLISHED'},\n",
       "   'isMeasurementOf': {'identifier': 'existence_of_linked_resource_metric',\n",
       "    'description': 'Availability of a linked resource: https://creativecommons.org/licenses/by/4.0/',\n",
       "    'title': 'Existence of linked resource',\n",
       "    'inDimension': {'inCategory': {'title': 'FEASIBILITY'},\n",
       "     'title': 'AVAILABILITY'},\n",
       "    'applicableDMPLifeCycles': [{'title': 'PUBLISHED'}],\n",
       "    'expectedDataType': 'http://www.w3.org/2001/XMLSchema#boolean',\n",
       "    'metricTests': []},\n",
       "   'computedOn': {'entity': 'https://w3id.org/dcso/ns/core#dmp_0_dataset_1_distribution_0_license_0',\n",
       "    'property': 'https://w3id.org/dcso/ns/core#licenseRef'},\n",
       "   'value': 'true',\n",
       "   'softwareAgent': {'title': 'maDMPEvaluator', 'description': ''}}],\n",
       " 'sums': {'availability': 3.0},\n",
       " 'averages': {'availability': 0.5}}"
      ]
     },
     "execution_count": 29,
     "metadata": {},
     "output_type": "execute_result"
    }
   ],
   "execution_count": 29
  },
  {
   "cell_type": "code",
   "id": "4da0ec25a5596066",
   "metadata": {
    "ExecuteTime": {
     "end_time": "2024-07-29T14:41:54.151979Z",
     "start_time": "2024-07-29T14:41:54.148580Z"
    }
   },
   "source": [
    "report[\"sums\"]"
   ],
   "outputs": [
    {
     "data": {
      "text/plain": [
       "{'availability': 3.0}"
      ]
     },
     "execution_count": 30,
     "metadata": {},
     "output_type": "execute_result"
    }
   ],
   "execution_count": 30
  },
  {
   "cell_type": "code",
   "id": "5479655f835e1b95",
   "metadata": {
    "ExecuteTime": {
     "end_time": "2024-07-29T14:41:54.156750Z",
     "start_time": "2024-07-29T14:41:54.152990Z"
    }
   },
   "source": [
    "report[\"averages\"]"
   ],
   "outputs": [
    {
     "data": {
      "text/plain": [
       "{'availability': 0.5}"
      ]
     },
     "execution_count": 31,
     "metadata": {},
     "output_type": "execute_result"
    }
   ],
   "execution_count": 31
  },
  {
   "cell_type": "markdown",
   "id": "54e8a2f7cd57dac7",
   "metadata": {},
   "source": [
    "### DMP Evaluation Examples\n",
    "To show the correctness of the resulting quality measurements we provide examples and manually evaluate the minimal DMP according to a subset of the goals and dimensions implemented in the prototype and compare the resulting measurements with the result of a manual evaluation. This minimal DMP is available in data/case-study/maDMPs/evaluation/minimal.json.\n",
    "\n",
    "For each dimension considered, we will provide positive cases where the DMP meets\n",
    "the requirements and negative case where we alter the given DMP to introduce an issue\n",
    "that should be detected and included in the evaluation measurements."
   ]
  },
  {
   "cell_type": "markdown",
   "id": "74e1ce044129f298",
   "metadata": {},
   "source": [
    "#### G1 Completeness\n",
    "For the examples regarding the goal G1 we will consider the evaluation of the dimensions\n",
    "DCS Completeness, but not Extension Completeness as the the generation of measure-\n",
    "ments for metrics of both dimensions makes use of equivalent methods and only the\n",
    "definition of the underlying guideline is different. We present two examples of DCS\n",
    "completeness evaluation: One positive case where the DMP fulfills all completeness\n",
    "requirements and one negative case where the DMP is missing a required item to be\n",
    "complete with regard to the DCS application profile."
   ]
  },
  {
   "cell_type": "code",
   "id": "b01b78892ca7eb14",
   "metadata": {
    "ExecuteTime": {
     "end_time": "2024-07-29T14:42:07.751008Z",
     "start_time": "2024-07-29T14:41:54.157759Z"
    }
   },
   "source": [
    "json_data = {\n",
    "    'dmpLoaderParameters': {\n",
    "        'dmpLoader': 'JSON-FILE',\n",
    "        'dmpIdentifier': 'evaluation/not-dcs-complete.json',\n",
    "    },\n",
    "    'dataLifecycle': 'PUBLISHED',\n",
    "    'dimensions': [\"dcs_completeness\"],\n",
    "    'categories': []\n",
    "}\n",
    "\n",
    "headers = {\n",
    "    'Content-Type': 'application/json'\n",
    "}\n",
    "\n",
    "response = requests.post('http://localhost:8080/api/evaluation/evaluate', headers=headers, json=json_data)\n",
    "\n",
    "result = response.json()\n",
    "result"
   ],
   "outputs": [
    {
     "data": {
      "text/plain": [
       "{'dmpStoreId': '33fd5d43-763b-4760-8a2b-0eb05458d13d',\n",
       " 'evaluationId': 'dfe9fd9d-2595-4e66-8c2e-8c6cb689e375',\n",
       " 'measurements': [{'lifeCycleStage': {'title': 'PUBLISHED'},\n",
       "   'isMeasurementOf': {'identifier': 'required_entity_or_property_existent',\n",
       "    'description': 'Existence of a required entity or property according to the specification',\n",
       "    'title': 'DCS Completeness',\n",
       "    'inDimension': {'inCategory': {'title': 'COMPLETENESS'},\n",
       "     'title': 'DCS_COMPLETENESS'},\n",
       "    'applicableDMPLifeCycles': [{'title': 'PLANNING'}],\n",
       "    'expectedDataType': 'http://www.w3.org/2001/XMLSchema#boolean',\n",
       "    'metricTests': []},\n",
       "   'guidance': {'title': 'SHACL Report',\n",
       "    'description': '<https://w3id.org/dcso/ns/core#hasContact>: minCount[1]: Invalid cardinality: expected min 1: Got count = 0'},\n",
       "   'computedOn': {'entity': 'https://w3id.org/dcso/ns/core#dmp_0'},\n",
       "   'value': False,\n",
       "   'softwareAgent': {'title': 'Apache Jena SHACL Validator'}}]}"
      ]
     },
     "execution_count": 32,
     "metadata": {},
     "output_type": "execute_result"
    }
   ],
   "execution_count": 32
  },
  {
   "cell_type": "markdown",
   "id": "e345dc6e3166763c",
   "metadata": {},
   "source": [
    "#### G2 Feasibility"
   ]
  },
  {
   "cell_type": "markdown",
   "id": "3a81ae0443cffeb",
   "metadata": {},
   "source": [
    "##### Accuracy\n",
    "To evaluate accuracy we modified the minimal DMP and manually added information which the solution should verify by comparing it with the information retrieved from trusted sources.\n"
   ]
  },
  {
   "metadata": {
    "ExecuteTime": {
     "end_time": "2024-07-29T14:42:27.066512Z",
     "start_time": "2024-07-29T14:42:07.752019Z"
    }
   },
   "cell_type": "code",
   "source": [
    "json_data = {\n",
    "    'dmpLoaderParameters': {\n",
    "        'dmpLoader': 'JSON-FILE',\n",
    "        'dmpIdentifier': 'evaluation/minimal-with-host.json',\n",
    "    },\n",
    "    'dataLifecycle': 'PUBLISHED',\n",
    "    'dimensions': [],\n",
    "    'categories': []\n",
    "}\n",
    "\n",
    "headers = {\n",
    "    'Content-Type': 'application/json'\n",
    "}\n",
    "\n",
    "response = requests.post('http://localhost:8080/api/evaluation/evaluate', headers=headers, json=json_data)\n",
    "\n",
    "result = response.json()\n",
    "result"
   ],
   "id": "eb8a3855010d8c07",
   "outputs": [
    {
     "data": {
      "text/plain": [
       "{'dmpStoreId': '5b5e3fc4-8bab-40be-a3cc-31199877274e',\n",
       " 'evaluationId': '02d1a669-d64a-4db2-ae4e-e1073fb627bc',\n",
       " 'measurements': [{'lifeCycleStage': {'title': 'PUBLISHED'},\n",
       "   'isMeasurementOf': {'identifier': 'required_entity_or_property_existent',\n",
       "    'description': 'Existence of a required entity or property according to the specification',\n",
       "    'title': 'DCS Completeness',\n",
       "    'inDimension': {'inCategory': {'title': 'COMPLETENESS'},\n",
       "     'title': 'DCS_COMPLETENESS'},\n",
       "    'applicableDMPLifeCycles': [{'title': 'PLANNING'}],\n",
       "    'expectedDataType': 'http://www.w3.org/2001/XMLSchema#boolean',\n",
       "    'metricTests': []},\n",
       "   'guidance': {'title': 'SHACL Report',\n",
       "    'description': '<http://purl.org/dc/terms/title>: minCount[1]: Invalid cardinality: expected min 1: Got count = 0'},\n",
       "   'computedOn': {'entity': 'https://w3id.org/dcso/ns/core#dmp_0_dataset_0_distribution_0'},\n",
       "   'value': False,\n",
       "   'softwareAgent': {'title': 'Apache Jena SHACL Validator'}},\n",
       "  {'lifeCycleStage': {'title': 'PUBLISHED'},\n",
       "   'isMeasurementOf': {'identifier': 'required_entity_or_property_existent',\n",
       "    'description': 'Existence of a required entity or property according to the specification',\n",
       "    'title': 'DCS Completeness',\n",
       "    'inDimension': {'inCategory': {'title': 'COMPLETENESS'},\n",
       "     'title': 'DCS_COMPLETENESS'},\n",
       "    'applicableDMPLifeCycles': [{'title': 'PLANNING'}],\n",
       "    'expectedDataType': 'http://www.w3.org/2001/XMLSchema#boolean',\n",
       "    'metricTests': []},\n",
       "   'guidance': {'title': 'SHACL Report',\n",
       "    'description': '<https://w3id.org/dcso/ns/core#startDate>: minCount[1]: Invalid cardinality: expected min 1: Got count = 0'},\n",
       "   'computedOn': {'entity': 'https://w3id.org/dcso/ns/core#dmp_0_dataset_0_distribution_0_license_0'},\n",
       "   'value': False,\n",
       "   'softwareAgent': {'title': 'Apache Jena SHACL Validator'}},\n",
       "  {'lifeCycleStage': {'title': 'PUBLISHED'},\n",
       "   'isMeasurementOf': {'identifier': 'required_entity_or_property_existent',\n",
       "    'description': 'Existence of a required entity or property according to the specification',\n",
       "    'title': 'DCS Completeness',\n",
       "    'inDimension': {'inCategory': {'title': 'COMPLETENESS'},\n",
       "     'title': 'DCS_COMPLETENESS'},\n",
       "    'applicableDMPLifeCycles': [{'title': 'PLANNING'}],\n",
       "    'expectedDataType': 'http://www.w3.org/2001/XMLSchema#boolean',\n",
       "    'metricTests': []},\n",
       "   'guidance': {'title': 'SHACL Report',\n",
       "    'description': '<http://purl.org/dc/terms/title>: minCount[1]: Invalid cardinality: expected min 1: Got count = 0'},\n",
       "   'computedOn': {'entity': 'https://w3id.org/dcso/ns/core#dmp_0_dataset_0_metadata_0'},\n",
       "   'value': False,\n",
       "   'softwareAgent': {'title': 'Apache Jena SHACL Validator'}},\n",
       "  {'lifeCycleStage': {'title': 'PUBLISHED'},\n",
       "   'isMeasurementOf': {'identifier': 'dcs_multiplicity_metric',\n",
       "    'description': 'Mutltiplicity of value in the DMP in accordance with the DCS application profile',\n",
       "    'title': 'DCS Multiplicity Compliance',\n",
       "    'inDimension': {'inCategory': {'title': 'COMPLIANCE'},\n",
       "     'title': 'DCS_COMPLIANCE',\n",
       "     'hasParentDimension': {'inCategory': {'title': 'COMPLIANCE'},\n",
       "      'title': 'GUIDELINE_COMPLIANCE'}},\n",
       "    'applicableDMPLifeCycles': [{'title': 'PLANNING'}],\n",
       "    'expectedDataType': 'http://www.w3.org/2001/XMLSchema#boolean',\n",
       "    'metricTests': []},\n",
       "   'guidance': {'title': 'SHACL Report',\n",
       "    'description': '<http://purl.org/dc/terms/title>: minCount[1]: Invalid cardinality: expected min 1: Got count = 0'},\n",
       "   'computedOn': {'entity': 'https://w3id.org/dcso/ns/core#dmp_0_dataset_0_metadata_0'},\n",
       "   'value': False,\n",
       "   'softwareAgent': {'title': 'Apache Jena SHACL Validator'}},\n",
       "  {'lifeCycleStage': {'title': 'PUBLISHED'},\n",
       "   'isMeasurementOf': {'identifier': 'dcs_multiplicity_metric',\n",
       "    'description': 'Mutltiplicity of value in the DMP in accordance with the DCS application profile',\n",
       "    'title': 'DCS Multiplicity Compliance',\n",
       "    'inDimension': {'inCategory': {'title': 'COMPLIANCE'},\n",
       "     'title': 'DCS_COMPLIANCE',\n",
       "     'hasParentDimension': {'inCategory': {'title': 'COMPLIANCE'},\n",
       "      'title': 'GUIDELINE_COMPLIANCE'}},\n",
       "    'applicableDMPLifeCycles': [{'title': 'PLANNING'}],\n",
       "    'expectedDataType': 'http://www.w3.org/2001/XMLSchema#boolean',\n",
       "    'metricTests': []},\n",
       "   'guidance': {'title': 'SHACL Report',\n",
       "    'description': '<https://w3id.org/dcso/ns/core#startDate>: minCount[1]: Invalid cardinality: expected min 1: Got count = 0'},\n",
       "   'computedOn': {'entity': 'https://w3id.org/dcso/ns/core#dmp_0_dataset_0_distribution_0_license_0'},\n",
       "   'value': False,\n",
       "   'softwareAgent': {'title': 'Apache Jena SHACL Validator'}},\n",
       "  {'lifeCycleStage': {'title': 'PUBLISHED'},\n",
       "   'isMeasurementOf': {'identifier': 'dcs_multiplicity_metric',\n",
       "    'description': 'Mutltiplicity of value in the DMP in accordance with the DCS application profile',\n",
       "    'title': 'DCS Multiplicity Compliance',\n",
       "    'inDimension': {'inCategory': {'title': 'COMPLIANCE'},\n",
       "     'title': 'DCS_COMPLIANCE',\n",
       "     'hasParentDimension': {'inCategory': {'title': 'COMPLIANCE'},\n",
       "      'title': 'GUIDELINE_COMPLIANCE'}},\n",
       "    'applicableDMPLifeCycles': [{'title': 'PLANNING'}],\n",
       "    'expectedDataType': 'http://www.w3.org/2001/XMLSchema#boolean',\n",
       "    'metricTests': []},\n",
       "   'guidance': {'title': 'SHACL Report',\n",
       "    'description': '<http://purl.org/dc/terms/title>: minCount[1]: Invalid cardinality: expected min 1: Got count = 0'},\n",
       "   'computedOn': {'entity': 'https://w3id.org/dcso/ns/core#dmp_0_dataset_0_metadata_0'},\n",
       "   'value': False,\n",
       "   'softwareAgent': {'title': 'Apache Jena SHACL Validator'}},\n",
       "  {'lifeCycleStage': {'title': 'PUBLISHED'},\n",
       "   'isMeasurementOf': {'identifier': 'dcs_multiplicity_metric',\n",
       "    'description': 'Mutltiplicity of value in the DMP in accordance with the DCS application profile',\n",
       "    'title': 'DCS Multiplicity Compliance',\n",
       "    'inDimension': {'inCategory': {'title': 'COMPLIANCE'},\n",
       "     'title': 'DCS_COMPLIANCE',\n",
       "     'hasParentDimension': {'inCategory': {'title': 'COMPLIANCE'},\n",
       "      'title': 'GUIDELINE_COMPLIANCE'}},\n",
       "    'applicableDMPLifeCycles': [{'title': 'PLANNING'}],\n",
       "    'expectedDataType': 'http://www.w3.org/2001/XMLSchema#boolean',\n",
       "    'metricTests': []},\n",
       "   'guidance': {'title': 'SHACL Report',\n",
       "    'description': '<http://purl.org/dc/terms/title>: minCount[1]: Invalid cardinality: expected min 1: Got count = 0'},\n",
       "   'computedOn': {'entity': 'https://w3id.org/dcso/ns/core#dmp_0_dataset_0_distribution_0'},\n",
       "   'value': False,\n",
       "   'softwareAgent': {'title': 'Apache Jena SHACL Validator'}},\n",
       "  {'lifeCycleStage': {'title': 'PUBLISHED'},\n",
       "   'isMeasurementOf': {'identifier': 'existence_of_linked_resource_metric',\n",
       "    'description': 'Availability of a linked resource: 10.5281/zenodo.13119047',\n",
       "    'title': 'Existence of linked resource',\n",
       "    'inDimension': {'inCategory': {'title': 'FEASIBILITY'},\n",
       "     'title': 'AVAILABILITY'},\n",
       "    'applicableDMPLifeCycles': [{'title': 'PUBLISHED'}],\n",
       "    'expectedDataType': 'http://www.w3.org/2001/XMLSchema#boolean',\n",
       "    'metricTests': []},\n",
       "   'computedOn': {'entity': 'https://w3id.org/dcso/ns/core#dmp_0',\n",
       "    'property': 'https://w3id.org/dcso/ns/core#dmp_0_dmpID_0'},\n",
       "   'value': 'true',\n",
       "   'softwareAgent': {'title': 'maDMPEvaluator', 'description': ''}},\n",
       "  {'lifeCycleStage': {'title': 'PUBLISHED'},\n",
       "   'isMeasurementOf': {'identifier': 'existence_of_linked_resource_metric',\n",
       "    'description': 'Availability of a linked resource: 10.5281/zenodo.4699026',\n",
       "    'title': 'Existence of linked resource',\n",
       "    'inDimension': {'inCategory': {'title': 'FEASIBILITY'},\n",
       "     'title': 'AVAILABILITY'},\n",
       "    'applicableDMPLifeCycles': [{'title': 'PUBLISHED'}],\n",
       "    'expectedDataType': 'http://www.w3.org/2001/XMLSchema#boolean',\n",
       "    'metricTests': []},\n",
       "   'computedOn': {'entity': 'https://w3id.org/dcso/ns/core#dmp_0_dataset_0',\n",
       "    'property': 'https://w3id.org/dcso/ns/core#dmp_0_dataset_0_datasetId_0'},\n",
       "   'value': 'true',\n",
       "   'softwareAgent': {'title': 'maDMPEvaluator', 'description': ''}},\n",
       "  {'lifeCycleStage': {'title': 'PUBLISHED'},\n",
       "   'isMeasurementOf': {'identifier': 'existence_of_linked_resource_metric',\n",
       "    'description': 'Availability of a linked resource: https://www.dublincore.org/specifications/dublin-core/dcmi-terms/',\n",
       "    'title': 'Existence of linked resource',\n",
       "    'inDimension': {'inCategory': {'title': 'FEASIBILITY'},\n",
       "     'title': 'AVAILABILITY'},\n",
       "    'applicableDMPLifeCycles': [{'title': 'PUBLISHED'}],\n",
       "    'expectedDataType': 'http://www.w3.org/2001/XMLSchema#boolean',\n",
       "    'metricTests': []},\n",
       "   'computedOn': {'entity': 'https://w3id.org/dcso/ns/core#dmp_0_dataset_0_metadata_0',\n",
       "    'property': 'https://w3id.org/dcso/ns/core#dmp_0_dataset_0_metadata_0_metadataStandardId_0'},\n",
       "   'value': 'true',\n",
       "   'softwareAgent': {'title': 'maDMPEvaluator', 'description': ''}},\n",
       "  {'lifeCycleStage': {'title': 'PUBLISHED'},\n",
       "   'isMeasurementOf': {'identifier': 'existence_of_linked_resource_metric',\n",
       "    'description': 'Availability of a linked resource: 0000-0002-5164-2690',\n",
       "    'title': 'Existence of linked resource',\n",
       "    'inDimension': {'inCategory': {'title': 'FEASIBILITY'},\n",
       "     'title': 'AVAILABILITY'},\n",
       "    'applicableDMPLifeCycles': [{'title': 'PUBLISHED'}],\n",
       "    'expectedDataType': 'http://www.w3.org/2001/XMLSchema#boolean',\n",
       "    'metricTests': []},\n",
       "   'computedOn': {'entity': 'https://w3id.org/dcso/ns/core#dmp_0_contact_0',\n",
       "    'property': 'https://w3id.org/dcso/ns/core#dmp_0_contact_0_contactId_0'},\n",
       "   'value': 'true',\n",
       "   'softwareAgent': {'title': 'maDMPEvaluator', 'description': ''}},\n",
       "  {'lifeCycleStage': {'title': 'PUBLISHED'},\n",
       "   'isMeasurementOf': {'identifier': 'existence_of_linked_resource_metric',\n",
       "    'description': 'Availability of a linked resource: https://zenodo.org/',\n",
       "    'title': 'Existence of linked resource',\n",
       "    'inDimension': {'inCategory': {'title': 'FEASIBILITY'},\n",
       "     'title': 'AVAILABILITY'},\n",
       "    'applicableDMPLifeCycles': [{'title': 'PUBLISHED'}],\n",
       "    'expectedDataType': 'http://www.w3.org/2001/XMLSchema#boolean',\n",
       "    'metricTests': []},\n",
       "   'computedOn': {'entity': 'https://w3id.org/dcso/ns/core#dmp_0_dataset_0_distribution_0_host_0',\n",
       "    'property': 'https://w3id.org/dcso/ns/core#url'},\n",
       "   'value': 'true',\n",
       "   'softwareAgent': {'title': 'maDMPEvaluator', 'description': ''}},\n",
       "  {'lifeCycleStage': {'title': 'PUBLISHED'},\n",
       "   'isMeasurementOf': {'identifier': 'existence_of_linked_resource_metric',\n",
       "    'description': 'Availability of a linked resource: https://creativecommons.org/licenses/by/4.0/legalcode',\n",
       "    'title': 'Existence of linked resource',\n",
       "    'inDimension': {'inCategory': {'title': 'FEASIBILITY'},\n",
       "     'title': 'AVAILABILITY'},\n",
       "    'applicableDMPLifeCycles': [{'title': 'PUBLISHED'}],\n",
       "    'expectedDataType': 'http://www.w3.org/2001/XMLSchema#boolean',\n",
       "    'metricTests': []},\n",
       "   'computedOn': {'entity': 'https://w3id.org/dcso/ns/core#dmp_0_dataset_0_distribution_0_license_0',\n",
       "    'property': 'https://w3id.org/dcso/ns/core#licenseRef'},\n",
       "   'value': 'true',\n",
       "   'softwareAgent': {'title': 'maDMPEvaluator', 'description': ''}}]}"
      ]
     },
     "execution_count": 33,
     "metadata": {},
     "output_type": "execute_result"
    }
   ],
   "execution_count": 33
  },
  {
   "cell_type": "markdown",
   "id": "98aa75668e672872",
   "metadata": {},
   "source": [
    "##### Availibility"
   ]
  },
  {
   "cell_type": "markdown",
   "id": "ed4b4d924dc94984",
   "metadata": {},
   "source": [
    "#### Quality of Actions\n",
    "We do not consider the evaluation of the correctness of the measurements of this dimension as they are provided by an external service, namely the F-UJI evaluator."
   ]
  },
  {
   "cell_type": "markdown",
   "id": "20a28f86909b4eff",
   "metadata": {},
   "source": [
    "#### G4 Compliance\n",
    "We proposed 3 dimensions, Guideline Compliance, DCS Compliance and Extension compliance."
   ]
  }
 ],
 "metadata": {
  "kernelspec": {
   "display_name": "Python 3 (ipykernel)",
   "language": "python",
   "name": "python3"
  },
  "language_info": {
   "codemirror_mode": {
    "name": "ipython",
    "version": 3
   },
   "file_extension": ".py",
   "mimetype": "text/x-python",
   "name": "python",
   "nbconvert_exporter": "python",
   "pygments_lexer": "ipython3",
   "version": "3.12.3"
  }
 },
 "nbformat": 4,
 "nbformat_minor": 5
}
