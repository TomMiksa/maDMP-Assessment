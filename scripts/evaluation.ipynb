{
 "cells": [
  {
   "cell_type": "markdown",
   "id": "846409bbe5bc4ba1",
   "metadata": {},
   "source": [
    "# Setup Dependencies"
   ]
  },
  {
   "cell_type": "code",
   "id": "a3b8899517b14c9d",
   "metadata": {
    "ExecuteTime": {
     "end_time": "2024-06-22T22:18:40.633929Z",
     "start_time": "2024-06-22T22:18:39.390860Z"
    }
   },
   "source": [
    "import sys\n",
    "!{sys.executable} -m pip install requests"
   ],
   "outputs": [
    {
     "name": "stdout",
     "output_type": "stream",
     "text": [
      "Requirement already satisfied: requests in c:\\users\\larnh\\ideaprojects\\madmp-assesment\\venv\\lib\\site-packages (2.27.1)\n",
      "Requirement already satisfied: idna<4,>=2.5 in c:\\users\\larnh\\ideaprojects\\madmp-assesment\\venv\\lib\\site-packages (from requests) (3.7)\n",
      "Requirement already satisfied: urllib3<1.27,>=1.21.1 in c:\\users\\larnh\\ideaprojects\\madmp-assesment\\venv\\lib\\site-packages (from requests) (1.26.19)\n",
      "Requirement already satisfied: charset-normalizer~=2.0.0 in c:\\users\\larnh\\ideaprojects\\madmp-assesment\\venv\\lib\\site-packages (from requests) (2.0.12)\n",
      "Requirement already satisfied: certifi>=2017.4.17 in c:\\users\\larnh\\ideaprojects\\madmp-assesment\\venv\\lib\\site-packages (from requests) (2024.6.2)\n"
     ]
    }
   ],
   "execution_count": 1
  },
  {
   "cell_type": "code",
   "id": "initial_id",
   "metadata": {
    "ExecuteTime": {
     "end_time": "2024-06-22T22:18:40.728607Z",
     "start_time": "2024-06-22T22:18:40.637336Z"
    }
   },
   "source": [
    "import requests"
   ],
   "outputs": [],
   "execution_count": 2
  },
  {
   "cell_type": "markdown",
   "id": "3c7701031ee34fd5",
   "metadata": {},
   "source": "# Evaluation"
  },
  {
   "metadata": {},
   "cell_type": "markdown",
   "source": "## Get information on available dmp loaders",
   "id": "9a0f067d2c93597a"
  },
  {
   "metadata": {
    "ExecuteTime": {
     "end_time": "2024-06-22T22:18:40.931211Z",
     "start_time": "2024-06-22T22:18:40.731294Z"
    }
   },
   "cell_type": "code",
   "source": [
    "dmp_loader_info = requests.get('http://localhost:8080/info/dmp-providers')\n",
    "dmp_loader_info.json()"
   ],
   "id": "4b01c68da4c47ac9",
   "outputs": [
    {
     "data": {
      "text/plain": [
       "['JSON-FILE']"
      ]
     },
     "execution_count": 3,
     "metadata": {},
     "output_type": "execute_result"
    }
   ],
   "execution_count": 3
  },
  {
   "metadata": {},
   "cell_type": "markdown",
   "source": "## Get information on available context providers",
   "id": "5710803ec8853b13"
  },
  {
   "metadata": {
    "ExecuteTime": {
     "end_time": "2024-06-22T22:18:40.962113Z",
     "start_time": "2024-06-22T22:18:40.933246Z"
    }
   },
   "cell_type": "code",
   "source": [
    "context_loader_info = requests.get('http://localhost:8080/info/context-providers')\n",
    "context_loader_info.json()"
   ],
   "id": "f2eab6df217a7cd1",
   "outputs": [
    {
     "data": {
      "text/plain": [
       "['OPEN_AIRE', 'RE3DATA']"
      ]
     },
     "execution_count": 4,
     "metadata": {},
     "output_type": "execute_result"
    }
   ],
   "execution_count": 4
  },
  {
   "metadata": {},
   "cell_type": "markdown",
   "source": "### Get information on available evaluators",
   "id": "d37627fb53d98536"
  },
  {
   "metadata": {
    "ExecuteTime": {
     "end_time": "2024-06-22T22:18:41.518972Z",
     "start_time": "2024-06-22T22:18:40.966601Z"
    }
   },
   "cell_type": "code",
   "source": [
    "eval_info = requests.get('http://localhost:8080/api/evaluation/info/evaluators')\n",
    "eval_info.json()"
   ],
   "id": "bd7274175b2795d8",
   "outputs": [
    {
     "data": {
      "text/plain": [
       "[{'category': 'COMPLETENESS',\n",
       "  'dimensions': ['DCS_COMPLETENESS', 'SCIENCE_EUROPE_EXTENSION_COMPLETENESS']},\n",
       " {'category': 'COMPLIANCE',\n",
       "  'dimensions': ['DCS_COMPLIANCE', 'SCIENCE_EUROPE_GUIDELINE_COMPLIANCE']},\n",
       " {'category': 'FEASIBILITY', 'dimensions': ['ACCURACY', 'AVAILABILITY']},\n",
       " {'category': 'QUALITY_OF_ACTIONS', 'dimensions': ['FAIR']}]"
      ]
     },
     "execution_count": 5,
     "metadata": {},
     "output_type": "execute_result"
    }
   ],
   "execution_count": 5
  },
  {
   "metadata": {},
   "cell_type": "markdown",
   "source": "### Call Evaluation Endpoint to produce all available measurements for the minimal DMP",
   "id": "5e443006a97cd0d1"
  },
  {
   "cell_type": "code",
   "id": "aedf07a0a9906e13",
   "metadata": {
    "ExecuteTime": {
     "end_time": "2024-06-22T22:18:53.484093Z",
     "start_time": "2024-06-22T22:18:41.520975Z"
    }
   },
   "source": [
    "json_data = {\n",
    "    'dmpLoaderParameters': {\n",
    "        'dmpLoader': 'JSON-FILE',\n",
    "        'dmpIdentifier': 'dcs-repo-examples/ex8-dmp-minimal-content.json',\n",
    "    },\n",
    "    'dataLifecycle': 'PUBLISHED',\n",
    "    'dimensions': [],\n",
    "    'categories': []\n",
    "}\n",
    "\n",
    "headers = {\n",
    "    'Content-Type': 'application/json'\n",
    "}\n",
    "\n",
    "response = requests.post('http://localhost:8080/api/evaluation/evaluate', headers=headers, json=json_data)\n",
    "\n",
    "result = response.json()"
   ],
   "outputs": [],
   "execution_count": 6
  },
  {
   "cell_type": "code",
   "id": "b0d2d0e35058c2e2",
   "metadata": {
    "ExecuteTime": {
     "end_time": "2024-06-22T22:18:53.499009Z",
     "start_time": "2024-06-22T22:18:53.486092Z"
    }
   },
   "source": "result",
   "outputs": [
    {
     "data": {
      "text/plain": [
       "{'dmpStoreId': 'f8c13d55-d2c3-4d2e-b8b6-5824ba8e6fbd',\n",
       " 'evaluationId': '2a041369-f338-4638-bc41-3b30ee14ec9c',\n",
       " 'measurements': [{'lifeCycleStage': {'title': 'PUBLISHED'},\n",
       "   'isMeasurementOf': {'identifier': 'required_entity_or_property_existent',\n",
       "    'description': 'Existence of a required entity or property according to the specification',\n",
       "    'title': 'DCS Completeness',\n",
       "    'inDimension': {'inCategory': {'title': 'COMPLETENESS'},\n",
       "     'title': 'DCS_COMPLETENESS'},\n",
       "    'applicableDMPLifeCycles': [{'title': 'PLANNING'}],\n",
       "    'expectedDataType': 'http://www.w3.org/2001/XMLSchema#boolean',\n",
       "    'metricTests': []},\n",
       "   'computedOn': {'entity': 'dmp'},\n",
       "   'value': True,\n",
       "   'softwareAgent': {'title': 'Apache Jena SHACL Validator'},\n",
       "   'testResults': []},\n",
       "  {'lifeCycleStage': {'title': 'PUBLISHED'},\n",
       "   'isMeasurementOf': {'identifier': 'dcs_multiplicity_metric',\n",
       "    'description': 'Mutltiplicity of value in the DMP in accordance with the DCS application profile',\n",
       "    'title': 'DCS Multiplicity Compliance',\n",
       "    'inDimension': {'inCategory': {'title': 'COMPLIANCE'},\n",
       "     'title': 'DCS_COMPLIANCE',\n",
       "     'hasParentDimension': {'inCategory': {'title': 'COMPLIANCE'},\n",
       "      'title': 'GUIDELINE_COMPLIANCE'}},\n",
       "    'applicableDMPLifeCycles': [{'title': 'PLANNING'}],\n",
       "    'expectedDataType': 'http://www.w3.org/2001/XMLSchema#boolean',\n",
       "    'metricTests': []},\n",
       "   'computedOn': {'entity': 'dmp', 'property': ''},\n",
       "   'value': True,\n",
       "   'softwareAgent': {'title': 'Apache Jena SHACL Validator'},\n",
       "   'testResults': []},\n",
       "  {'lifeCycleStage': {'title': 'PUBLISHED'},\n",
       "   'isMeasurementOf': {'identifier': 'existence_of_linked_resource_metric',\n",
       "    'description': 'Availability of a linked resource: 10.5281/zenodo.11670084',\n",
       "    'title': 'Existence of linked resource',\n",
       "    'inDimension': {'inCategory': {'title': 'FEASIBILITY'},\n",
       "     'title': 'AVAILABILITY'},\n",
       "    'applicableDMPLifeCycles': [{'title': 'PUBLISHED'}],\n",
       "    'expectedDataType': 'http://www.w3.org/2001/XMLSchema#boolean',\n",
       "    'metricTests': []},\n",
       "   'computedOn': {'entity': 'https://w3id.org/dcso/ns/core#dmp_0',\n",
       "    'property': 'https://w3id.org/dcso/ns/core#dmp_0_dmpID_0'},\n",
       "   'value': 'true',\n",
       "   'softwareAgent': {'title': 'maDMPEvaluator', 'description': ''}},\n",
       "  {'lifeCycleStage': {'title': 'PUBLISHED'},\n",
       "   'isMeasurementOf': {'identifier': 'existence_of_linked_resource_metric',\n",
       "    'description': 'Availability of a linked resource: 10.5281/zenodo.4699051',\n",
       "    'title': 'Existence of linked resource',\n",
       "    'inDimension': {'inCategory': {'title': 'FEASIBILITY'},\n",
       "     'title': 'AVAILABILITY'},\n",
       "    'applicableDMPLifeCycles': [{'title': 'PUBLISHED'}],\n",
       "    'expectedDataType': 'http://www.w3.org/2001/XMLSchema#boolean',\n",
       "    'metricTests': []},\n",
       "   'computedOn': {'entity': 'https://w3id.org/dcso/ns/core#dmp_0_dataset_0',\n",
       "    'property': 'https://w3id.org/dcso/ns/core#dmp_0_dataset_0_datasetId_0'},\n",
       "   'value': 'true',\n",
       "   'softwareAgent': {'title': 'maDMPEvaluator', 'description': ''}},\n",
       "  {'lifeCycleStage': {'title': 'PUBLISHED'},\n",
       "   'isMeasurementOf': {'identifier': 'existence_of_linked_resource_metric',\n",
       "    'description': 'Availability of a linked resource: 0000-0002-5164-2690',\n",
       "    'title': 'Existence of linked resource',\n",
       "    'inDimension': {'inCategory': {'title': 'FEASIBILITY'},\n",
       "     'title': 'AVAILABILITY'},\n",
       "    'applicableDMPLifeCycles': [{'title': 'PUBLISHED'}],\n",
       "    'expectedDataType': 'http://www.w3.org/2001/XMLSchema#boolean',\n",
       "    'metricTests': []},\n",
       "   'computedOn': {'entity': 'https://w3id.org/dcso/ns/core#dmp_0_contact_0',\n",
       "    'property': 'https://w3id.org/dcso/ns/core#dmp_0_contact_0_contactId_0'},\n",
       "   'value': 'true',\n",
       "   'softwareAgent': {'title': 'maDMPEvaluator', 'description': ''}}]}"
      ]
     },
     "execution_count": 7,
     "metadata": {},
     "output_type": "execute_result"
    }
   ],
   "execution_count": 7
  },
  {
   "metadata": {
    "ExecuteTime": {
     "end_time": "2024-06-22T22:18:53.514995Z",
     "start_time": "2024-06-22T22:18:53.501030Z"
    }
   },
   "cell_type": "code",
   "source": [
    "measurements = result[\"measurements\"]\n",
    "#evalDimensions = set(map(lambda x: x[\"isMeasurementOf\"][\"inDimension\"][\"title\"], measurements))\n",
    "evalDimensions = set([x[\"isMeasurementOf\"][\"inDimension\"][\"title\"] for x in measurements])\n",
    "evalDimensions"
   ],
   "id": "62fda9494fac2088",
   "outputs": [
    {
     "data": {
      "text/plain": [
       "{'AVAILABILITY', 'DCS_COMPLETENESS', 'DCS_COMPLIANCE'}"
      ]
     },
     "execution_count": 8,
     "metadata": {},
     "output_type": "execute_result"
    }
   ],
   "execution_count": 8
  },
  {
   "metadata": {
    "ExecuteTime": {
     "end_time": "2024-06-22T22:18:53.530456Z",
     "start_time": "2024-06-22T22:18:53.518397Z"
    }
   },
   "cell_type": "code",
   "source": "",
   "id": "57dbb46be2d6870a",
   "outputs": [],
   "execution_count": 8
  }
 ],
 "metadata": {
  "kernelspec": {
   "display_name": "Python 3",
   "language": "python",
   "name": "python3"
  },
  "language_info": {
   "codemirror_mode": {
    "name": "ipython",
    "version": 3
   },
   "file_extension": ".py",
   "mimetype": "text/x-python",
   "name": "python",
   "nbconvert_exporter": "python",
   "pygments_lexer": "ipython3",
   "version": "3.6.8"
  }
 },
 "nbformat": 4,
 "nbformat_minor": 5
}
